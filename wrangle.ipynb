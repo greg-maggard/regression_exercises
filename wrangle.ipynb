{
 "cells": [
  {
   "cell_type": "code",
   "execution_count": 1,
   "id": "7726c5bb",
   "metadata": {},
   "outputs": [],
   "source": [
    "#Importing Functions and Libraries\n",
    "\n",
    "import warnings\n",
    "warnings.filterwarnings(\"ignore\")\n",
    "\n",
    "import pandas as pd\n",
    "import numpy as np\n",
    "import matplotlib.pyplot as plt\n",
    "import seaborn as sns\n",
    "from scipy import stats\n",
    "from sklearn.model_selection import train_test_split\n",
    "from sklearn.metrics import confusion_matrix\n",
    "from sklearn.metrics import precision_recall_fscore_support\n",
    "import pydataset as data\n",
    "\n",
    "#Importing pre-written scripts to streamline data acquisition and cleaning:\n",
    "from acquire import get_zillow_data\n",
    "from prepare import clean_telco_data, prep_telco_data\n",
    "from env import get_db_url\n",
    "from stats_toolkit import significance_test\n",
    "from wrangle import wrangle_zillow, clearing_fips"
   ]
  },
  {
   "cell_type": "code",
   "execution_count": 2,
   "id": "9cd2427d",
   "metadata": {},
   "outputs": [],
   "source": [
    "df = get_zillow_data()"
   ]
  },
  {
   "cell_type": "markdown",
   "id": "fe9bda5e",
   "metadata": {},
   "source": [
    "# Wrangle Stuff:"
   ]
  },
  {
   "cell_type": "code",
   "execution_count": 3,
   "id": "0fbebaed",
   "metadata": {},
   "outputs": [
    {
     "data": {
      "text/html": [
       "<div>\n",
       "<style scoped>\n",
       "    .dataframe tbody tr th:only-of-type {\n",
       "        vertical-align: middle;\n",
       "    }\n",
       "\n",
       "    .dataframe tbody tr th {\n",
       "        vertical-align: top;\n",
       "    }\n",
       "\n",
       "    .dataframe thead th {\n",
       "        text-align: right;\n",
       "    }\n",
       "</style>\n",
       "<table border=\"1\" class=\"dataframe\">\n",
       "  <thead>\n",
       "    <tr style=\"text-align: right;\">\n",
       "      <th></th>\n",
       "      <th>bedroomcnt</th>\n",
       "      <th>bathroomcnt</th>\n",
       "      <th>calculatedfinishedsquarefeet</th>\n",
       "      <th>taxvaluedollarcnt</th>\n",
       "      <th>yearbuilt</th>\n",
       "      <th>taxamount</th>\n",
       "      <th>fips</th>\n",
       "      <th>propertylandusedesc</th>\n",
       "    </tr>\n",
       "  </thead>\n",
       "  <tbody>\n",
       "    <tr>\n",
       "      <th>4</th>\n",
       "      <td>4</td>\n",
       "      <td>2.0</td>\n",
       "      <td>3633.0</td>\n",
       "      <td>296425.0</td>\n",
       "      <td>2005</td>\n",
       "      <td>6941.39</td>\n",
       "      <td>6037.0</td>\n",
       "      <td>Single Family Residential</td>\n",
       "    </tr>\n",
       "    <tr>\n",
       "      <th>6</th>\n",
       "      <td>3</td>\n",
       "      <td>4.0</td>\n",
       "      <td>1620.0</td>\n",
       "      <td>847770.0</td>\n",
       "      <td>2011</td>\n",
       "      <td>10244.94</td>\n",
       "      <td>6037.0</td>\n",
       "      <td>Single Family Residential</td>\n",
       "    </tr>\n",
       "    <tr>\n",
       "      <th>7</th>\n",
       "      <td>3</td>\n",
       "      <td>2.0</td>\n",
       "      <td>2077.0</td>\n",
       "      <td>646760.0</td>\n",
       "      <td>1926</td>\n",
       "      <td>7924.68</td>\n",
       "      <td>6037.0</td>\n",
       "      <td>Single Family Residential</td>\n",
       "    </tr>\n",
       "    <tr>\n",
       "      <th>11</th>\n",
       "      <td>0</td>\n",
       "      <td>0.0</td>\n",
       "      <td>1200.0</td>\n",
       "      <td>5328.0</td>\n",
       "      <td>1972</td>\n",
       "      <td>91.60</td>\n",
       "      <td>6037.0</td>\n",
       "      <td>Single Family Residential</td>\n",
       "    </tr>\n",
       "    <tr>\n",
       "      <th>14</th>\n",
       "      <td>0</td>\n",
       "      <td>0.0</td>\n",
       "      <td>171.0</td>\n",
       "      <td>6920.0</td>\n",
       "      <td>1973</td>\n",
       "      <td>255.17</td>\n",
       "      <td>6037.0</td>\n",
       "      <td>Single Family Residential</td>\n",
       "    </tr>\n",
       "    <tr>\n",
       "      <th>...</th>\n",
       "      <td>...</td>\n",
       "      <td>...</td>\n",
       "      <td>...</td>\n",
       "      <td>...</td>\n",
       "      <td>...</td>\n",
       "      <td>...</td>\n",
       "      <td>...</td>\n",
       "      <td>...</td>\n",
       "    </tr>\n",
       "    <tr>\n",
       "      <th>2152856</th>\n",
       "      <td>4</td>\n",
       "      <td>4.0</td>\n",
       "      <td>4375.0</td>\n",
       "      <td>422400.0</td>\n",
       "      <td>2015</td>\n",
       "      <td>13877.56</td>\n",
       "      <td>6037.0</td>\n",
       "      <td>Single Family Residential</td>\n",
       "    </tr>\n",
       "    <tr>\n",
       "      <th>2152858</th>\n",
       "      <td>4</td>\n",
       "      <td>3.0</td>\n",
       "      <td>2262.0</td>\n",
       "      <td>960756.0</td>\n",
       "      <td>2015</td>\n",
       "      <td>13494.52</td>\n",
       "      <td>6059.0</td>\n",
       "      <td>Single Family Residential</td>\n",
       "    </tr>\n",
       "    <tr>\n",
       "      <th>2152859</th>\n",
       "      <td>4</td>\n",
       "      <td>4.5</td>\n",
       "      <td>3127.0</td>\n",
       "      <td>536061.0</td>\n",
       "      <td>2014</td>\n",
       "      <td>6244.16</td>\n",
       "      <td>6059.0</td>\n",
       "      <td>Single Family Residential</td>\n",
       "    </tr>\n",
       "    <tr>\n",
       "      <th>2152861</th>\n",
       "      <td>3</td>\n",
       "      <td>2.5</td>\n",
       "      <td>1974.0</td>\n",
       "      <td>424353.0</td>\n",
       "      <td>2015</td>\n",
       "      <td>5302.70</td>\n",
       "      <td>6059.0</td>\n",
       "      <td>Single Family Residential</td>\n",
       "    </tr>\n",
       "    <tr>\n",
       "      <th>2152862</th>\n",
       "      <td>4</td>\n",
       "      <td>4.0</td>\n",
       "      <td>2110.0</td>\n",
       "      <td>554009.0</td>\n",
       "      <td>2014</td>\n",
       "      <td>6761.20</td>\n",
       "      <td>6037.0</td>\n",
       "      <td>Single Family Residential</td>\n",
       "    </tr>\n",
       "  </tbody>\n",
       "</table>\n",
       "<p>2140133 rows × 8 columns</p>\n",
       "</div>"
      ],
      "text/plain": [
       "         bedroomcnt  bathroomcnt  calculatedfinishedsquarefeet  \\\n",
       "4                 4          2.0                        3633.0   \n",
       "6                 3          4.0                        1620.0   \n",
       "7                 3          2.0                        2077.0   \n",
       "11                0          0.0                        1200.0   \n",
       "14                0          0.0                         171.0   \n",
       "...             ...          ...                           ...   \n",
       "2152856           4          4.0                        4375.0   \n",
       "2152858           4          3.0                        2262.0   \n",
       "2152859           4          4.5                        3127.0   \n",
       "2152861           3          2.5                        1974.0   \n",
       "2152862           4          4.0                        2110.0   \n",
       "\n",
       "         taxvaluedollarcnt  yearbuilt  taxamount    fips  \\\n",
       "4                 296425.0       2005    6941.39  6037.0   \n",
       "6                 847770.0       2011   10244.94  6037.0   \n",
       "7                 646760.0       1926    7924.68  6037.0   \n",
       "11                  5328.0       1972      91.60  6037.0   \n",
       "14                  6920.0       1973     255.17  6037.0   \n",
       "...                    ...        ...        ...     ...   \n",
       "2152856           422400.0       2015   13877.56  6037.0   \n",
       "2152858           960756.0       2015   13494.52  6059.0   \n",
       "2152859           536061.0       2014    6244.16  6059.0   \n",
       "2152861           424353.0       2015    5302.70  6059.0   \n",
       "2152862           554009.0       2014    6761.20  6037.0   \n",
       "\n",
       "               propertylandusedesc  \n",
       "4        Single Family Residential  \n",
       "6        Single Family Residential  \n",
       "7        Single Family Residential  \n",
       "11       Single Family Residential  \n",
       "14       Single Family Residential  \n",
       "...                            ...  \n",
       "2152856  Single Family Residential  \n",
       "2152858  Single Family Residential  \n",
       "2152859  Single Family Residential  \n",
       "2152861  Single Family Residential  \n",
       "2152862  Single Family Residential  \n",
       "\n",
       "[2140133 rows x 8 columns]"
      ]
     },
     "execution_count": 3,
     "metadata": {},
     "output_type": "execute_result"
    }
   ],
   "source": [
    "#Acquire Data:\n",
    "df = get_zillow_data()\n",
    "\n",
    "def clearing_fips(df):\n",
    "    '''This function takes in a DataFrame of unprepared Zillow information and generates a new\n",
    "    'county' column, with the county name based on the FIPS code. Drops the 'fips' column and returns\n",
    "    the new DataFrame.\n",
    "    '''\n",
    "    # create a list of our conditions\n",
    "    fips = [\n",
    "        (df['fips'] == 6037.0),\n",
    "        (df['fips'] == 6059.0),\n",
    "        (df['fips'] == 6111.0)\n",
    "        ]\n",
    "    # create a list of the values we want to assign for each condition\n",
    "    counties = ['Los Angeles County', 'Orange County', 'Ventura County']\n",
    "    # create a new column and use np.select to assign values to it using our lists as arguments\n",
    "    df['county'] = np.select(fips, counties)\n",
    "    df = df.drop(columns = 'fips')\n",
    "    return df\n",
    "\n",
    "#Dropping Null Values:\n",
    "df = df.dropna()\n",
    "\n",
    "#Dropping Listings that have 0.0 bathrooms, 0.0 bedrooms, and are under the 120 sqft legal minimum as required by California to be considered a residence:\n",
    "df = df.drop(df[(df.bedroomcnt == 0.0) & (df.bathroomcnt == 0.0) & (df.calculatedfinishedsquarefeet < 120.0)].index)\n",
    "\n",
    "#Converting Certain Columns to Integers to Improve Performance:\n",
    "df.astype({'bedroomcnt' : int, 'yearbuilt': int})"
   ]
  },
  {
   "cell_type": "markdown",
   "id": "0285cd1a",
   "metadata": {},
   "source": [
    "# Taking a Quick Look at the Data:"
   ]
  },
  {
   "cell_type": "code",
   "execution_count": 4,
   "id": "88f5d0c7",
   "metadata": {},
   "outputs": [
    {
     "data": {
      "text/html": [
       "<div>\n",
       "<style scoped>\n",
       "    .dataframe tbody tr th:only-of-type {\n",
       "        vertical-align: middle;\n",
       "    }\n",
       "\n",
       "    .dataframe tbody tr th {\n",
       "        vertical-align: top;\n",
       "    }\n",
       "\n",
       "    .dataframe thead th {\n",
       "        text-align: right;\n",
       "    }\n",
       "</style>\n",
       "<table border=\"1\" class=\"dataframe\">\n",
       "  <thead>\n",
       "    <tr style=\"text-align: right;\">\n",
       "      <th></th>\n",
       "      <th>bedroomcnt</th>\n",
       "      <th>bathroomcnt</th>\n",
       "      <th>calculatedfinishedsquarefeet</th>\n",
       "      <th>taxvaluedollarcnt</th>\n",
       "      <th>yearbuilt</th>\n",
       "      <th>taxamount</th>\n",
       "      <th>fips</th>\n",
       "      <th>propertylandusedesc</th>\n",
       "    </tr>\n",
       "  </thead>\n",
       "  <tbody>\n",
       "    <tr>\n",
       "      <th>4</th>\n",
       "      <td>4.0</td>\n",
       "      <td>2.0</td>\n",
       "      <td>3633.0</td>\n",
       "      <td>296425.0</td>\n",
       "      <td>2005.0</td>\n",
       "      <td>6941.39</td>\n",
       "      <td>6037.0</td>\n",
       "      <td>Single Family Residential</td>\n",
       "    </tr>\n",
       "    <tr>\n",
       "      <th>6</th>\n",
       "      <td>3.0</td>\n",
       "      <td>4.0</td>\n",
       "      <td>1620.0</td>\n",
       "      <td>847770.0</td>\n",
       "      <td>2011.0</td>\n",
       "      <td>10244.94</td>\n",
       "      <td>6037.0</td>\n",
       "      <td>Single Family Residential</td>\n",
       "    </tr>\n",
       "    <tr>\n",
       "      <th>7</th>\n",
       "      <td>3.0</td>\n",
       "      <td>2.0</td>\n",
       "      <td>2077.0</td>\n",
       "      <td>646760.0</td>\n",
       "      <td>1926.0</td>\n",
       "      <td>7924.68</td>\n",
       "      <td>6037.0</td>\n",
       "      <td>Single Family Residential</td>\n",
       "    </tr>\n",
       "    <tr>\n",
       "      <th>11</th>\n",
       "      <td>0.0</td>\n",
       "      <td>0.0</td>\n",
       "      <td>1200.0</td>\n",
       "      <td>5328.0</td>\n",
       "      <td>1972.0</td>\n",
       "      <td>91.60</td>\n",
       "      <td>6037.0</td>\n",
       "      <td>Single Family Residential</td>\n",
       "    </tr>\n",
       "    <tr>\n",
       "      <th>14</th>\n",
       "      <td>0.0</td>\n",
       "      <td>0.0</td>\n",
       "      <td>171.0</td>\n",
       "      <td>6920.0</td>\n",
       "      <td>1973.0</td>\n",
       "      <td>255.17</td>\n",
       "      <td>6037.0</td>\n",
       "      <td>Single Family Residential</td>\n",
       "    </tr>\n",
       "  </tbody>\n",
       "</table>\n",
       "</div>"
      ],
      "text/plain": [
       "    bedroomcnt  bathroomcnt  calculatedfinishedsquarefeet  taxvaluedollarcnt  \\\n",
       "4          4.0          2.0                        3633.0           296425.0   \n",
       "6          3.0          4.0                        1620.0           847770.0   \n",
       "7          3.0          2.0                        2077.0           646760.0   \n",
       "11         0.0          0.0                        1200.0             5328.0   \n",
       "14         0.0          0.0                         171.0             6920.0   \n",
       "\n",
       "    yearbuilt  taxamount    fips        propertylandusedesc  \n",
       "4      2005.0    6941.39  6037.0  Single Family Residential  \n",
       "6      2011.0   10244.94  6037.0  Single Family Residential  \n",
       "7      1926.0    7924.68  6037.0  Single Family Residential  \n",
       "11     1972.0      91.60  6037.0  Single Family Residential  \n",
       "14     1973.0     255.17  6037.0  Single Family Residential  "
      ]
     },
     "execution_count": 4,
     "metadata": {},
     "output_type": "execute_result"
    }
   ],
   "source": [
    "df.head()"
   ]
  },
  {
   "cell_type": "code",
   "execution_count": 5,
   "id": "bd772329",
   "metadata": {},
   "outputs": [
    {
     "data": {
      "text/plain": [
       "bedroomcnt                      float64\n",
       "bathroomcnt                     float64\n",
       "calculatedfinishedsquarefeet    float64\n",
       "taxvaluedollarcnt               float64\n",
       "yearbuilt                       float64\n",
       "taxamount                       float64\n",
       "fips                            float64\n",
       "propertylandusedesc              object\n",
       "dtype: object"
      ]
     },
     "execution_count": 5,
     "metadata": {},
     "output_type": "execute_result"
    }
   ],
   "source": [
    "df.dtypes"
   ]
  },
  {
   "cell_type": "code",
   "execution_count": 6,
   "id": "77951948",
   "metadata": {},
   "outputs": [
    {
     "data": {
      "text/html": [
       "<div>\n",
       "<style scoped>\n",
       "    .dataframe tbody tr th:only-of-type {\n",
       "        vertical-align: middle;\n",
       "    }\n",
       "\n",
       "    .dataframe tbody tr th {\n",
       "        vertical-align: top;\n",
       "    }\n",
       "\n",
       "    .dataframe thead th {\n",
       "        text-align: right;\n",
       "    }\n",
       "</style>\n",
       "<table border=\"1\" class=\"dataframe\">\n",
       "  <thead>\n",
       "    <tr style=\"text-align: right;\">\n",
       "      <th></th>\n",
       "      <th>bedroomcnt</th>\n",
       "      <th>bathroomcnt</th>\n",
       "      <th>calculatedfinishedsquarefeet</th>\n",
       "      <th>taxvaluedollarcnt</th>\n",
       "      <th>yearbuilt</th>\n",
       "      <th>taxamount</th>\n",
       "      <th>fips</th>\n",
       "      <th>propertylandusedesc</th>\n",
       "    </tr>\n",
       "  </thead>\n",
       "  <tbody>\n",
       "    <tr>\n",
       "      <th>4</th>\n",
       "      <td>4</td>\n",
       "      <td>2.0</td>\n",
       "      <td>3633.0</td>\n",
       "      <td>296425.0</td>\n",
       "      <td>2005</td>\n",
       "      <td>6941.39</td>\n",
       "      <td>6037</td>\n",
       "      <td>Single Family Residential</td>\n",
       "    </tr>\n",
       "    <tr>\n",
       "      <th>6</th>\n",
       "      <td>3</td>\n",
       "      <td>4.0</td>\n",
       "      <td>1620.0</td>\n",
       "      <td>847770.0</td>\n",
       "      <td>2011</td>\n",
       "      <td>10244.94</td>\n",
       "      <td>6037</td>\n",
       "      <td>Single Family Residential</td>\n",
       "    </tr>\n",
       "    <tr>\n",
       "      <th>7</th>\n",
       "      <td>3</td>\n",
       "      <td>2.0</td>\n",
       "      <td>2077.0</td>\n",
       "      <td>646760.0</td>\n",
       "      <td>1926</td>\n",
       "      <td>7924.68</td>\n",
       "      <td>6037</td>\n",
       "      <td>Single Family Residential</td>\n",
       "    </tr>\n",
       "    <tr>\n",
       "      <th>11</th>\n",
       "      <td>0</td>\n",
       "      <td>0.0</td>\n",
       "      <td>1200.0</td>\n",
       "      <td>5328.0</td>\n",
       "      <td>1972</td>\n",
       "      <td>91.60</td>\n",
       "      <td>6037</td>\n",
       "      <td>Single Family Residential</td>\n",
       "    </tr>\n",
       "    <tr>\n",
       "      <th>14</th>\n",
       "      <td>0</td>\n",
       "      <td>0.0</td>\n",
       "      <td>171.0</td>\n",
       "      <td>6920.0</td>\n",
       "      <td>1973</td>\n",
       "      <td>255.17</td>\n",
       "      <td>6037</td>\n",
       "      <td>Single Family Residential</td>\n",
       "    </tr>\n",
       "    <tr>\n",
       "      <th>...</th>\n",
       "      <td>...</td>\n",
       "      <td>...</td>\n",
       "      <td>...</td>\n",
       "      <td>...</td>\n",
       "      <td>...</td>\n",
       "      <td>...</td>\n",
       "      <td>...</td>\n",
       "      <td>...</td>\n",
       "    </tr>\n",
       "    <tr>\n",
       "      <th>2152856</th>\n",
       "      <td>4</td>\n",
       "      <td>4.0</td>\n",
       "      <td>4375.0</td>\n",
       "      <td>422400.0</td>\n",
       "      <td>2015</td>\n",
       "      <td>13877.56</td>\n",
       "      <td>6037</td>\n",
       "      <td>Single Family Residential</td>\n",
       "    </tr>\n",
       "    <tr>\n",
       "      <th>2152858</th>\n",
       "      <td>4</td>\n",
       "      <td>3.0</td>\n",
       "      <td>2262.0</td>\n",
       "      <td>960756.0</td>\n",
       "      <td>2015</td>\n",
       "      <td>13494.52</td>\n",
       "      <td>6059</td>\n",
       "      <td>Single Family Residential</td>\n",
       "    </tr>\n",
       "    <tr>\n",
       "      <th>2152859</th>\n",
       "      <td>4</td>\n",
       "      <td>4.5</td>\n",
       "      <td>3127.0</td>\n",
       "      <td>536061.0</td>\n",
       "      <td>2014</td>\n",
       "      <td>6244.16</td>\n",
       "      <td>6059</td>\n",
       "      <td>Single Family Residential</td>\n",
       "    </tr>\n",
       "    <tr>\n",
       "      <th>2152861</th>\n",
       "      <td>3</td>\n",
       "      <td>2.5</td>\n",
       "      <td>1974.0</td>\n",
       "      <td>424353.0</td>\n",
       "      <td>2015</td>\n",
       "      <td>5302.70</td>\n",
       "      <td>6059</td>\n",
       "      <td>Single Family Residential</td>\n",
       "    </tr>\n",
       "    <tr>\n",
       "      <th>2152862</th>\n",
       "      <td>4</td>\n",
       "      <td>4.0</td>\n",
       "      <td>2110.0</td>\n",
       "      <td>554009.0</td>\n",
       "      <td>2014</td>\n",
       "      <td>6761.20</td>\n",
       "      <td>6037</td>\n",
       "      <td>Single Family Residential</td>\n",
       "    </tr>\n",
       "  </tbody>\n",
       "</table>\n",
       "<p>2140133 rows × 8 columns</p>\n",
       "</div>"
      ],
      "text/plain": [
       "         bedroomcnt  bathroomcnt  calculatedfinishedsquarefeet  \\\n",
       "4                 4          2.0                        3633.0   \n",
       "6                 3          4.0                        1620.0   \n",
       "7                 3          2.0                        2077.0   \n",
       "11                0          0.0                        1200.0   \n",
       "14                0          0.0                         171.0   \n",
       "...             ...          ...                           ...   \n",
       "2152856           4          4.0                        4375.0   \n",
       "2152858           4          3.0                        2262.0   \n",
       "2152859           4          4.5                        3127.0   \n",
       "2152861           3          2.5                        1974.0   \n",
       "2152862           4          4.0                        2110.0   \n",
       "\n",
       "         taxvaluedollarcnt  yearbuilt  taxamount  fips  \\\n",
       "4                 296425.0       2005    6941.39  6037   \n",
       "6                 847770.0       2011   10244.94  6037   \n",
       "7                 646760.0       1926    7924.68  6037   \n",
       "11                  5328.0       1972      91.60  6037   \n",
       "14                  6920.0       1973     255.17  6037   \n",
       "...                    ...        ...        ...   ...   \n",
       "2152856           422400.0       2015   13877.56  6037   \n",
       "2152858           960756.0       2015   13494.52  6059   \n",
       "2152859           536061.0       2014    6244.16  6059   \n",
       "2152861           424353.0       2015    5302.70  6059   \n",
       "2152862           554009.0       2014    6761.20  6037   \n",
       "\n",
       "               propertylandusedesc  \n",
       "4        Single Family Residential  \n",
       "6        Single Family Residential  \n",
       "7        Single Family Residential  \n",
       "11       Single Family Residential  \n",
       "14       Single Family Residential  \n",
       "...                            ...  \n",
       "2152856  Single Family Residential  \n",
       "2152858  Single Family Residential  \n",
       "2152859  Single Family Residential  \n",
       "2152861  Single Family Residential  \n",
       "2152862  Single Family Residential  \n",
       "\n",
       "[2140133 rows x 8 columns]"
      ]
     },
     "execution_count": 6,
     "metadata": {},
     "output_type": "execute_result"
    }
   ],
   "source": [
    "df.astype({'bedroomcnt' : int, 'yearbuilt': int, 'fips': int})"
   ]
  },
  {
   "cell_type": "code",
   "execution_count": 7,
   "id": "b738d56c",
   "metadata": {},
   "outputs": [
    {
     "data": {
      "text/plain": [
       "['bedroomcnt',\n",
       " 'bathroomcnt',\n",
       " 'calculatedfinishedsquarefeet',\n",
       " 'taxvaluedollarcnt',\n",
       " 'yearbuilt',\n",
       " 'taxamount',\n",
       " 'fips',\n",
       " 'propertylandusedesc']"
      ]
     },
     "execution_count": 7,
     "metadata": {},
     "output_type": "execute_result"
    }
   ],
   "source": [
    "df.columns.tolist()"
   ]
  },
  {
   "cell_type": "code",
   "execution_count": 8,
   "id": "aae7177a",
   "metadata": {},
   "outputs": [
    {
     "data": {
      "text/plain": [
       "2140133"
      ]
     },
     "execution_count": 8,
     "metadata": {},
     "output_type": "execute_result"
    }
   ],
   "source": [
    "df.shape[0]"
   ]
  },
  {
   "cell_type": "code",
   "execution_count": 9,
   "id": "24d46f35",
   "metadata": {},
   "outputs": [
    {
     "data": {
      "text/plain": [
       "array([6037., 6059., 6111.])"
      ]
     },
     "execution_count": 9,
     "metadata": {},
     "output_type": "execute_result"
    }
   ],
   "source": [
    "df.fips.unique()"
   ]
  },
  {
   "cell_type": "markdown",
   "id": "90a1355b",
   "metadata": {},
   "source": [
    "# Creating New 'County' column based on 'fips'"
   ]
  },
  {
   "cell_type": "code",
   "execution_count": 10,
   "id": "0d7534d7",
   "metadata": {},
   "outputs": [
    {
     "data": {
      "text/html": [
       "<div>\n",
       "<style scoped>\n",
       "    .dataframe tbody tr th:only-of-type {\n",
       "        vertical-align: middle;\n",
       "    }\n",
       "\n",
       "    .dataframe tbody tr th {\n",
       "        vertical-align: top;\n",
       "    }\n",
       "\n",
       "    .dataframe thead th {\n",
       "        text-align: right;\n",
       "    }\n",
       "</style>\n",
       "<table border=\"1\" class=\"dataframe\">\n",
       "  <thead>\n",
       "    <tr style=\"text-align: right;\">\n",
       "      <th></th>\n",
       "      <th>bedroomcnt</th>\n",
       "      <th>bathroomcnt</th>\n",
       "      <th>calculatedfinishedsquarefeet</th>\n",
       "      <th>taxvaluedollarcnt</th>\n",
       "      <th>yearbuilt</th>\n",
       "      <th>taxamount</th>\n",
       "      <th>propertylandusedesc</th>\n",
       "      <th>county</th>\n",
       "    </tr>\n",
       "  </thead>\n",
       "  <tbody>\n",
       "    <tr>\n",
       "      <th>4</th>\n",
       "      <td>4.0</td>\n",
       "      <td>2.0</td>\n",
       "      <td>3633.0</td>\n",
       "      <td>296425.0</td>\n",
       "      <td>2005.0</td>\n",
       "      <td>6941.39</td>\n",
       "      <td>Single Family Residential</td>\n",
       "      <td>Los Angeles County</td>\n",
       "    </tr>\n",
       "    <tr>\n",
       "      <th>6</th>\n",
       "      <td>3.0</td>\n",
       "      <td>4.0</td>\n",
       "      <td>1620.0</td>\n",
       "      <td>847770.0</td>\n",
       "      <td>2011.0</td>\n",
       "      <td>10244.94</td>\n",
       "      <td>Single Family Residential</td>\n",
       "      <td>Los Angeles County</td>\n",
       "    </tr>\n",
       "    <tr>\n",
       "      <th>7</th>\n",
       "      <td>3.0</td>\n",
       "      <td>2.0</td>\n",
       "      <td>2077.0</td>\n",
       "      <td>646760.0</td>\n",
       "      <td>1926.0</td>\n",
       "      <td>7924.68</td>\n",
       "      <td>Single Family Residential</td>\n",
       "      <td>Los Angeles County</td>\n",
       "    </tr>\n",
       "    <tr>\n",
       "      <th>11</th>\n",
       "      <td>0.0</td>\n",
       "      <td>0.0</td>\n",
       "      <td>1200.0</td>\n",
       "      <td>5328.0</td>\n",
       "      <td>1972.0</td>\n",
       "      <td>91.60</td>\n",
       "      <td>Single Family Residential</td>\n",
       "      <td>Los Angeles County</td>\n",
       "    </tr>\n",
       "    <tr>\n",
       "      <th>14</th>\n",
       "      <td>0.0</td>\n",
       "      <td>0.0</td>\n",
       "      <td>171.0</td>\n",
       "      <td>6920.0</td>\n",
       "      <td>1973.0</td>\n",
       "      <td>255.17</td>\n",
       "      <td>Single Family Residential</td>\n",
       "      <td>Los Angeles County</td>\n",
       "    </tr>\n",
       "    <tr>\n",
       "      <th>...</th>\n",
       "      <td>...</td>\n",
       "      <td>...</td>\n",
       "      <td>...</td>\n",
       "      <td>...</td>\n",
       "      <td>...</td>\n",
       "      <td>...</td>\n",
       "      <td>...</td>\n",
       "      <td>...</td>\n",
       "    </tr>\n",
       "    <tr>\n",
       "      <th>2152856</th>\n",
       "      <td>4.0</td>\n",
       "      <td>4.0</td>\n",
       "      <td>4375.0</td>\n",
       "      <td>422400.0</td>\n",
       "      <td>2015.0</td>\n",
       "      <td>13877.56</td>\n",
       "      <td>Single Family Residential</td>\n",
       "      <td>Los Angeles County</td>\n",
       "    </tr>\n",
       "    <tr>\n",
       "      <th>2152858</th>\n",
       "      <td>4.0</td>\n",
       "      <td>3.0</td>\n",
       "      <td>2262.0</td>\n",
       "      <td>960756.0</td>\n",
       "      <td>2015.0</td>\n",
       "      <td>13494.52</td>\n",
       "      <td>Single Family Residential</td>\n",
       "      <td>Orange County</td>\n",
       "    </tr>\n",
       "    <tr>\n",
       "      <th>2152859</th>\n",
       "      <td>4.0</td>\n",
       "      <td>4.5</td>\n",
       "      <td>3127.0</td>\n",
       "      <td>536061.0</td>\n",
       "      <td>2014.0</td>\n",
       "      <td>6244.16</td>\n",
       "      <td>Single Family Residential</td>\n",
       "      <td>Orange County</td>\n",
       "    </tr>\n",
       "    <tr>\n",
       "      <th>2152861</th>\n",
       "      <td>3.0</td>\n",
       "      <td>2.5</td>\n",
       "      <td>1974.0</td>\n",
       "      <td>424353.0</td>\n",
       "      <td>2015.0</td>\n",
       "      <td>5302.70</td>\n",
       "      <td>Single Family Residential</td>\n",
       "      <td>Orange County</td>\n",
       "    </tr>\n",
       "    <tr>\n",
       "      <th>2152862</th>\n",
       "      <td>4.0</td>\n",
       "      <td>4.0</td>\n",
       "      <td>2110.0</td>\n",
       "      <td>554009.0</td>\n",
       "      <td>2014.0</td>\n",
       "      <td>6761.20</td>\n",
       "      <td>Single Family Residential</td>\n",
       "      <td>Los Angeles County</td>\n",
       "    </tr>\n",
       "  </tbody>\n",
       "</table>\n",
       "<p>2140133 rows × 8 columns</p>\n",
       "</div>"
      ],
      "text/plain": [
       "         bedroomcnt  bathroomcnt  calculatedfinishedsquarefeet  \\\n",
       "4               4.0          2.0                        3633.0   \n",
       "6               3.0          4.0                        1620.0   \n",
       "7               3.0          2.0                        2077.0   \n",
       "11              0.0          0.0                        1200.0   \n",
       "14              0.0          0.0                         171.0   \n",
       "...             ...          ...                           ...   \n",
       "2152856         4.0          4.0                        4375.0   \n",
       "2152858         4.0          3.0                        2262.0   \n",
       "2152859         4.0          4.5                        3127.0   \n",
       "2152861         3.0          2.5                        1974.0   \n",
       "2152862         4.0          4.0                        2110.0   \n",
       "\n",
       "         taxvaluedollarcnt  yearbuilt  taxamount        propertylandusedesc  \\\n",
       "4                 296425.0     2005.0    6941.39  Single Family Residential   \n",
       "6                 847770.0     2011.0   10244.94  Single Family Residential   \n",
       "7                 646760.0     1926.0    7924.68  Single Family Residential   \n",
       "11                  5328.0     1972.0      91.60  Single Family Residential   \n",
       "14                  6920.0     1973.0     255.17  Single Family Residential   \n",
       "...                    ...        ...        ...                        ...   \n",
       "2152856           422400.0     2015.0   13877.56  Single Family Residential   \n",
       "2152858           960756.0     2015.0   13494.52  Single Family Residential   \n",
       "2152859           536061.0     2014.0    6244.16  Single Family Residential   \n",
       "2152861           424353.0     2015.0    5302.70  Single Family Residential   \n",
       "2152862           554009.0     2014.0    6761.20  Single Family Residential   \n",
       "\n",
       "                     county  \n",
       "4        Los Angeles County  \n",
       "6        Los Angeles County  \n",
       "7        Los Angeles County  \n",
       "11       Los Angeles County  \n",
       "14       Los Angeles County  \n",
       "...                     ...  \n",
       "2152856  Los Angeles County  \n",
       "2152858       Orange County  \n",
       "2152859       Orange County  \n",
       "2152861       Orange County  \n",
       "2152862  Los Angeles County  \n",
       "\n",
       "[2140133 rows x 8 columns]"
      ]
     },
     "execution_count": 10,
     "metadata": {},
     "output_type": "execute_result"
    }
   ],
   "source": [
    "def clearing_fips(df):\n",
    "    '''This function takes in a DataFrame of unprepared Zillow information and generates a new\n",
    "    'county' column, with the county name based on the FIPS code. Drops the 'fips' column and returns\n",
    "    the new DataFrame.\n",
    "    '''\n",
    "    # create a list of our conditions\n",
    "    fips = [\n",
    "        (df['fips'] == 6037.0),\n",
    "        (df['fips'] == 6059.0),\n",
    "        (df['fips'] == 6111.0)\n",
    "        ]\n",
    "    # create a list of the values we want to assign for each condition\n",
    "    counties = ['Los Angeles County', 'Orange County', 'Ventura County']\n",
    "    # create a new column and use np.select to assign values to it using our lists as arguments\n",
    "    df['county'] = np.select(fips, counties)\n",
    "    df = df.drop(columns = 'fips')\n",
    "    return df\n",
    "\n",
    "clearing_fips(df)"
   ]
  },
  {
   "cell_type": "code",
   "execution_count": 11,
   "id": "c211ad98",
   "metadata": {},
   "outputs": [
    {
     "data": {
      "text/plain": [
       "Los Angeles County    1425105\n",
       "Orange County          552057\n",
       "Ventura County         162971\n",
       "Name: county, dtype: int64"
      ]
     },
     "execution_count": 11,
     "metadata": {},
     "output_type": "execute_result"
    }
   ],
   "source": [
    "df.county.value_counts()"
   ]
  },
  {
   "cell_type": "code",
   "execution_count": 12,
   "id": "df0faa91",
   "metadata": {},
   "outputs": [
    {
     "data": {
      "text/html": [
       "<div>\n",
       "<style scoped>\n",
       "    .dataframe tbody tr th:only-of-type {\n",
       "        vertical-align: middle;\n",
       "    }\n",
       "\n",
       "    .dataframe tbody tr th {\n",
       "        vertical-align: top;\n",
       "    }\n",
       "\n",
       "    .dataframe thead th {\n",
       "        text-align: right;\n",
       "    }\n",
       "</style>\n",
       "<table border=\"1\" class=\"dataframe\">\n",
       "  <thead>\n",
       "    <tr style=\"text-align: right;\">\n",
       "      <th></th>\n",
       "      <th>bedroomcnt</th>\n",
       "      <th>bathroomcnt</th>\n",
       "      <th>calculatedfinishedsquarefeet</th>\n",
       "      <th>taxvaluedollarcnt</th>\n",
       "      <th>yearbuilt</th>\n",
       "      <th>taxamount</th>\n",
       "      <th>propertylandusedesc</th>\n",
       "      <th>county</th>\n",
       "    </tr>\n",
       "  </thead>\n",
       "  <tbody>\n",
       "    <tr>\n",
       "      <th>4</th>\n",
       "      <td>4.0</td>\n",
       "      <td>2.0</td>\n",
       "      <td>3633.0</td>\n",
       "      <td>296425.0</td>\n",
       "      <td>2005.0</td>\n",
       "      <td>6941.39</td>\n",
       "      <td>Single Family Residential</td>\n",
       "      <td>Los Angeles County</td>\n",
       "    </tr>\n",
       "    <tr>\n",
       "      <th>6</th>\n",
       "      <td>3.0</td>\n",
       "      <td>4.0</td>\n",
       "      <td>1620.0</td>\n",
       "      <td>847770.0</td>\n",
       "      <td>2011.0</td>\n",
       "      <td>10244.94</td>\n",
       "      <td>Single Family Residential</td>\n",
       "      <td>Los Angeles County</td>\n",
       "    </tr>\n",
       "    <tr>\n",
       "      <th>7</th>\n",
       "      <td>3.0</td>\n",
       "      <td>2.0</td>\n",
       "      <td>2077.0</td>\n",
       "      <td>646760.0</td>\n",
       "      <td>1926.0</td>\n",
       "      <td>7924.68</td>\n",
       "      <td>Single Family Residential</td>\n",
       "      <td>Los Angeles County</td>\n",
       "    </tr>\n",
       "    <tr>\n",
       "      <th>11</th>\n",
       "      <td>0.0</td>\n",
       "      <td>0.0</td>\n",
       "      <td>1200.0</td>\n",
       "      <td>5328.0</td>\n",
       "      <td>1972.0</td>\n",
       "      <td>91.60</td>\n",
       "      <td>Single Family Residential</td>\n",
       "      <td>Los Angeles County</td>\n",
       "    </tr>\n",
       "    <tr>\n",
       "      <th>14</th>\n",
       "      <td>0.0</td>\n",
       "      <td>0.0</td>\n",
       "      <td>171.0</td>\n",
       "      <td>6920.0</td>\n",
       "      <td>1973.0</td>\n",
       "      <td>255.17</td>\n",
       "      <td>Single Family Residential</td>\n",
       "      <td>Los Angeles County</td>\n",
       "    </tr>\n",
       "    <tr>\n",
       "      <th>...</th>\n",
       "      <td>...</td>\n",
       "      <td>...</td>\n",
       "      <td>...</td>\n",
       "      <td>...</td>\n",
       "      <td>...</td>\n",
       "      <td>...</td>\n",
       "      <td>...</td>\n",
       "      <td>...</td>\n",
       "    </tr>\n",
       "    <tr>\n",
       "      <th>2152856</th>\n",
       "      <td>4.0</td>\n",
       "      <td>4.0</td>\n",
       "      <td>4375.0</td>\n",
       "      <td>422400.0</td>\n",
       "      <td>2015.0</td>\n",
       "      <td>13877.56</td>\n",
       "      <td>Single Family Residential</td>\n",
       "      <td>Los Angeles County</td>\n",
       "    </tr>\n",
       "    <tr>\n",
       "      <th>2152858</th>\n",
       "      <td>4.0</td>\n",
       "      <td>3.0</td>\n",
       "      <td>2262.0</td>\n",
       "      <td>960756.0</td>\n",
       "      <td>2015.0</td>\n",
       "      <td>13494.52</td>\n",
       "      <td>Single Family Residential</td>\n",
       "      <td>Orange County</td>\n",
       "    </tr>\n",
       "    <tr>\n",
       "      <th>2152859</th>\n",
       "      <td>4.0</td>\n",
       "      <td>4.5</td>\n",
       "      <td>3127.0</td>\n",
       "      <td>536061.0</td>\n",
       "      <td>2014.0</td>\n",
       "      <td>6244.16</td>\n",
       "      <td>Single Family Residential</td>\n",
       "      <td>Orange County</td>\n",
       "    </tr>\n",
       "    <tr>\n",
       "      <th>2152861</th>\n",
       "      <td>3.0</td>\n",
       "      <td>2.5</td>\n",
       "      <td>1974.0</td>\n",
       "      <td>424353.0</td>\n",
       "      <td>2015.0</td>\n",
       "      <td>5302.70</td>\n",
       "      <td>Single Family Residential</td>\n",
       "      <td>Orange County</td>\n",
       "    </tr>\n",
       "    <tr>\n",
       "      <th>2152862</th>\n",
       "      <td>4.0</td>\n",
       "      <td>4.0</td>\n",
       "      <td>2110.0</td>\n",
       "      <td>554009.0</td>\n",
       "      <td>2014.0</td>\n",
       "      <td>6761.20</td>\n",
       "      <td>Single Family Residential</td>\n",
       "      <td>Los Angeles County</td>\n",
       "    </tr>\n",
       "  </tbody>\n",
       "</table>\n",
       "<p>2140133 rows × 8 columns</p>\n",
       "</div>"
      ],
      "text/plain": [
       "         bedroomcnt  bathroomcnt  calculatedfinishedsquarefeet  \\\n",
       "4               4.0          2.0                        3633.0   \n",
       "6               3.0          4.0                        1620.0   \n",
       "7               3.0          2.0                        2077.0   \n",
       "11              0.0          0.0                        1200.0   \n",
       "14              0.0          0.0                         171.0   \n",
       "...             ...          ...                           ...   \n",
       "2152856         4.0          4.0                        4375.0   \n",
       "2152858         4.0          3.0                        2262.0   \n",
       "2152859         4.0          4.5                        3127.0   \n",
       "2152861         3.0          2.5                        1974.0   \n",
       "2152862         4.0          4.0                        2110.0   \n",
       "\n",
       "         taxvaluedollarcnt  yearbuilt  taxamount        propertylandusedesc  \\\n",
       "4                 296425.0     2005.0    6941.39  Single Family Residential   \n",
       "6                 847770.0     2011.0   10244.94  Single Family Residential   \n",
       "7                 646760.0     1926.0    7924.68  Single Family Residential   \n",
       "11                  5328.0     1972.0      91.60  Single Family Residential   \n",
       "14                  6920.0     1973.0     255.17  Single Family Residential   \n",
       "...                    ...        ...        ...                        ...   \n",
       "2152856           422400.0     2015.0   13877.56  Single Family Residential   \n",
       "2152858           960756.0     2015.0   13494.52  Single Family Residential   \n",
       "2152859           536061.0     2014.0    6244.16  Single Family Residential   \n",
       "2152861           424353.0     2015.0    5302.70  Single Family Residential   \n",
       "2152862           554009.0     2014.0    6761.20  Single Family Residential   \n",
       "\n",
       "                     county  \n",
       "4        Los Angeles County  \n",
       "6        Los Angeles County  \n",
       "7        Los Angeles County  \n",
       "11       Los Angeles County  \n",
       "14       Los Angeles County  \n",
       "...                     ...  \n",
       "2152856  Los Angeles County  \n",
       "2152858       Orange County  \n",
       "2152859       Orange County  \n",
       "2152861       Orange County  \n",
       "2152862  Los Angeles County  \n",
       "\n",
       "[2140133 rows x 8 columns]"
      ]
     },
     "execution_count": 12,
     "metadata": {},
     "output_type": "execute_result"
    }
   ],
   "source": [
    "# Dropping 'fips' column:\n",
    "df.drop(columns = 'fips')"
   ]
  },
  {
   "cell_type": "markdown",
   "id": "de889b32",
   "metadata": {},
   "source": [
    "# Checking for and Dropping Nulls:"
   ]
  },
  {
   "cell_type": "code",
   "execution_count": 13,
   "id": "cf7c6d44",
   "metadata": {},
   "outputs": [
    {
     "data": {
      "text/plain": [
       "bedroomcnt                      False\n",
       "bathroomcnt                     False\n",
       "calculatedfinishedsquarefeet    False\n",
       "taxvaluedollarcnt               False\n",
       "yearbuilt                       False\n",
       "taxamount                       False\n",
       "fips                            False\n",
       "propertylandusedesc             False\n",
       "county                          False\n",
       "dtype: bool"
      ]
     },
     "execution_count": 13,
     "metadata": {},
     "output_type": "execute_result"
    }
   ],
   "source": [
    "df.isnull().any()"
   ]
  },
  {
   "cell_type": "code",
   "execution_count": 14,
   "id": "d320a2c6",
   "metadata": {},
   "outputs": [
    {
     "data": {
      "text/plain": [
       "bedroomcnt                      0\n",
       "bathroomcnt                     0\n",
       "calculatedfinishedsquarefeet    0\n",
       "taxvaluedollarcnt               0\n",
       "yearbuilt                       0\n",
       "taxamount                       0\n",
       "fips                            0\n",
       "propertylandusedesc             0\n",
       "county                          0\n",
       "dtype: int64"
      ]
     },
     "execution_count": 14,
     "metadata": {},
     "output_type": "execute_result"
    }
   ],
   "source": [
    "df.isnull().sum()"
   ]
  },
  {
   "cell_type": "code",
   "execution_count": 15,
   "id": "40a994ef",
   "metadata": {},
   "outputs": [
    {
     "data": {
      "text/plain": [
       "0"
      ]
     },
     "execution_count": 15,
     "metadata": {},
     "output_type": "execute_result"
    }
   ],
   "source": [
    "df[df.bedroomcnt.isnull() | df.bathroomcnt.isnull() | df.calculatedfinishedsquarefeet.isnull() | df.taxvaluedollarcnt.isnull() | df.yearbuilt.isnull() | df.taxamount.isnull() | df.fips.isnull()].shape[0]"
   ]
  },
  {
   "cell_type": "code",
   "execution_count": 16,
   "id": "66b8474a",
   "metadata": {},
   "outputs": [
    {
     "data": {
      "text/plain": [
       "2140133"
      ]
     },
     "execution_count": 16,
     "metadata": {},
     "output_type": "execute_result"
    }
   ],
   "source": [
    "df = df.dropna()\n",
    "\n",
    "df.shape[0]"
   ]
  },
  {
   "cell_type": "code",
   "execution_count": null,
   "id": "0221704e",
   "metadata": {},
   "outputs": [],
   "source": []
  },
  {
   "cell_type": "code",
   "execution_count": null,
   "id": "c412c302",
   "metadata": {},
   "outputs": [],
   "source": []
  },
  {
   "cell_type": "code",
   "execution_count": null,
   "id": "5698b108",
   "metadata": {},
   "outputs": [],
   "source": []
  },
  {
   "cell_type": "markdown",
   "id": "3ab6bf0e",
   "metadata": {},
   "source": [
    "# Looking for Odd Values:"
   ]
  },
  {
   "cell_type": "code",
   "execution_count": 17,
   "id": "d33bc3b0",
   "metadata": {},
   "outputs": [
    {
     "data": {
      "text/plain": [
       "25.0         1\n",
       "16.0         2\n",
       "18.0         3\n",
       "15.0         5\n",
       "14.0         7\n",
       "12.0        12\n",
       "13.0        15\n",
       "11.0        34\n",
       "10.0       118\n",
       "9.0        290\n",
       "8.0       1103\n",
       "0.0       4295\n",
       "7.0       4792\n",
       "1.0      22895\n",
       "6.0      25117\n",
       "5.0     150671\n",
       "2.0     334221\n",
       "4.0     633608\n",
       "3.0     962944\n",
       "Name: bedroomcnt, dtype: int64"
      ]
     },
     "execution_count": 17,
     "metadata": {},
     "output_type": "execute_result"
    }
   ],
   "source": [
    "df.bedroomcnt.value_counts(dropna = False, ascending = True)"
   ]
  },
  {
   "cell_type": "code",
   "execution_count": 18,
   "id": "372f2d7b",
   "metadata": {},
   "outputs": [
    {
     "data": {
      "text/plain": [
       "19.00         1\n",
       "19.50         1\n",
       "32.00         1\n",
       "14.50         1\n",
       "12.50         3\n",
       "11.50         3\n",
       "1.75          3\n",
       "17.00         4\n",
       "20.00         6\n",
       "18.00         8\n",
       "16.00        12\n",
       "10.50        14\n",
       "0.50         16\n",
       "15.00        17\n",
       "14.00        25\n",
       "13.00        39\n",
       "9.50         50\n",
       "12.00        73\n",
       "8.50        108\n",
       "11.00       145\n",
       "10.00       322\n",
       "7.50        382\n",
       "9.00        707\n",
       "6.50       1330\n",
       "8.00       1681\n",
       "0.00       4172\n",
       "7.00       4381\n",
       "5.50       6201\n",
       "6.00      10717\n",
       "4.50      19474\n",
       "5.00      28306\n",
       "3.50      28464\n",
       "1.50      31157\n",
       "4.00      82039\n",
       "2.50     142827\n",
       "1.00     412582\n",
       "3.00     422398\n",
       "2.00     942463\n",
       "Name: bathroomcnt, dtype: int64"
      ]
     },
     "execution_count": 18,
     "metadata": {},
     "output_type": "execute_result"
    }
   ],
   "source": [
    "df.bathroomcnt.value_counts(dropna = False, ascending = True)"
   ]
  },
  {
   "cell_type": "code",
   "execution_count": 19,
   "id": "23affa1b",
   "metadata": {},
   "outputs": [
    {
     "data": {
      "text/plain": [
       "0.002006884618853127"
      ]
     },
     "execution_count": 19,
     "metadata": {},
     "output_type": "execute_result"
    }
   ],
   "source": [
    "# Listings with 0 bedrooms comprise only .2% of the dataset: \n",
    "df[df.bedroomcnt == 0.0].shape[0] / df.shape[0]"
   ]
  },
  {
   "cell_type": "code",
   "execution_count": 20,
   "id": "04ebd07e",
   "metadata": {},
   "outputs": [
    {
     "data": {
      "text/plain": [
       "0.001949411555263154"
      ]
     },
     "execution_count": 20,
     "metadata": {},
     "output_type": "execute_result"
    }
   ],
   "source": [
    "#Listings with 0 bathrooms comprise only .2% of the dataset:\n",
    "df[df.bathroomcnt == 0.0].shape[0] / df.shape[0]"
   ]
  },
  {
   "cell_type": "code",
   "execution_count": 21,
   "id": "d5fef0d9",
   "metadata": {},
   "outputs": [
    {
     "data": {
      "text/plain": [
       "0.0015153263839209994"
      ]
     },
     "execution_count": 21,
     "metadata": {},
     "output_type": "execute_result"
    }
   ],
   "source": [
    "#Listings with 0 bedrooms AND 0 bathrooms comprise only .15% of the dataset\n",
    "df[(df.bedroomcnt == 0.0) & (df.bathroomcnt == 0.0)].shape[0] / df.shape[0]"
   ]
  },
  {
   "cell_type": "code",
   "execution_count": 22,
   "id": "cb523c23",
   "metadata": {},
   "outputs": [
    {
     "data": {
      "text/plain": [
       "(0, 9)"
      ]
     },
     "execution_count": 22,
     "metadata": {},
     "output_type": "execute_result"
    }
   ],
   "source": [
    "df[(df.bedroomcnt == 0.0) & (df.bathroomcnt == 0.0) & (df.calculatedfinishedsquarefeet < 120.0)].shape"
   ]
  },
  {
   "cell_type": "code",
   "execution_count": 23,
   "id": "8b6ca4ac",
   "metadata": {},
   "outputs": [
    {
     "data": {
      "text/html": [
       "<div>\n",
       "<style scoped>\n",
       "    .dataframe tbody tr th:only-of-type {\n",
       "        vertical-align: middle;\n",
       "    }\n",
       "\n",
       "    .dataframe tbody tr th {\n",
       "        vertical-align: top;\n",
       "    }\n",
       "\n",
       "    .dataframe thead th {\n",
       "        text-align: right;\n",
       "    }\n",
       "</style>\n",
       "<table border=\"1\" class=\"dataframe\">\n",
       "  <thead>\n",
       "    <tr style=\"text-align: right;\">\n",
       "      <th></th>\n",
       "      <th>bedroomcnt</th>\n",
       "      <th>bathroomcnt</th>\n",
       "      <th>calculatedfinishedsquarefeet</th>\n",
       "      <th>taxvaluedollarcnt</th>\n",
       "      <th>yearbuilt</th>\n",
       "      <th>taxamount</th>\n",
       "      <th>fips</th>\n",
       "      <th>propertylandusedesc</th>\n",
       "      <th>county</th>\n",
       "    </tr>\n",
       "  </thead>\n",
       "  <tbody>\n",
       "  </tbody>\n",
       "</table>\n",
       "</div>"
      ],
      "text/plain": [
       "Empty DataFrame\n",
       "Columns: [bedroomcnt, bathroomcnt, calculatedfinishedsquarefeet, taxvaluedollarcnt, yearbuilt, taxamount, fips, propertylandusedesc, county]\n",
       "Index: []"
      ]
     },
     "execution_count": 23,
     "metadata": {},
     "output_type": "execute_result"
    }
   ],
   "source": [
    "#Listings that have 0.0 bathrooms, 0.0 bedrooms, and are under the 120 sqft legal minimum as required by California to be considered a residence:\n",
    "df[(df.bedroomcnt == 0.0) & (df.bathroomcnt == 0.0) & (df.calculatedfinishedsquarefeet < 120.0)].sort_values(by = ['taxvaluedollarcnt'], ascending = False)"
   ]
  },
  {
   "cell_type": "code",
   "execution_count": 24,
   "id": "214ba93b",
   "metadata": {},
   "outputs": [],
   "source": [
    "df = df.drop(df[(df.bedroomcnt == 0.0) & (df.bathroomcnt == 0.0) & (df.calculatedfinishedsquarefeet < 120.0)].index)"
   ]
  },
  {
   "cell_type": "markdown",
   "id": "5f5b1f9f",
   "metadata": {},
   "source": [
    "# Visualizing Some of the Data:"
   ]
  },
  {
   "cell_type": "code",
   "execution_count": 25,
   "id": "c9e3907f",
   "metadata": {},
   "outputs": [
    {
     "data": {
      "text/plain": [
       "<AxesSubplot:xlabel='bedroomcnt', ylabel='taxvaluedollarcnt'>"
      ]
     },
     "execution_count": 25,
     "metadata": {},
     "output_type": "execute_result"
    },
    {
     "data": {
      "image/png": "[encoded data removed]",
      "text/plain": [
       "<Figure size 432x288 with 1 Axes>"
      ]
     },
     "metadata": {
      "needs_background": "light"
     },
     "output_type": "display_data"
    }
   ],
   "source": [
    "sns.scatterplot(x = df.bedroomcnt, y = df.taxvaluedollarcnt)"
   ]
  },
  {
   "cell_type": "code",
   "execution_count": 26,
   "id": "d59ec881",
   "metadata": {},
   "outputs": [
    {
     "data": {
      "text/plain": [
       "<AxesSubplot:xlabel='bathroomcnt', ylabel='taxvaluedollarcnt'>"
      ]
     },
     "execution_count": 26,
     "metadata": {},
     "output_type": "execute_result"
    },
    {
     "data": {
      "image/png": "[encoded data removed]",
      "text/plain": [
       "<Figure size 432x288 with 1 Axes>"
      ]
     },
     "metadata": {
      "needs_background": "light"
     },
     "output_type": "display_data"
    }
   ],
   "source": [
    "sns.scatterplot(x = df.bathroomcnt, y = df.taxvaluedollarcnt)"
   ]
  }
 ],
 "metadata": {
  "kernelspec": {
   "display_name": "Python 3 (ipykernel)",
   "language": "python",
   "name": "python3"
  },
  "language_info": {
   "codemirror_mode": {
    "name": "ipython",
    "version": 3
   },
   "file_extension": ".py",
   "mimetype": "text/x-python",
   "name": "python",
   "nbconvert_exporter": "python",
   "pygments_lexer": "ipython3",
   "version": "3.9.7"
  }
 },
 "nbformat": 4,
 "nbformat_minor": 5
}
