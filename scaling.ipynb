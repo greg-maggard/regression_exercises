{
 "cells": [
  {
   "cell_type": "code",
   "execution_count": 1,
   "id": "5f99e0e0",
   "metadata": {},
   "outputs": [],
   "source": [
    "%matplotlib inline\n",
    "\n",
    "#Importing Functions and Libraries\n",
    "\n",
    "import warnings\n",
    "warnings.filterwarnings(\"ignore\")\n",
    "\n",
    "import pandas as pd\n",
    "import numpy as np\n",
    "import matplotlib.pyplot as plt\n",
    "import seaborn as sns\n",
    "from scipy import stats\n",
    "from sklearn.neighbors import KNeighborsClassifier\n",
    "from sklearn.model_selection import train_test_split\n",
    "from sklearn.metrics import confusion_matrix\n",
    "from sklearn.metrics import precision_recall_fscore_support\n",
    "from sklearn.preprocessing import MinMaxScaler, StandardScaler, RobustScaler, QuantileTransformer\n",
    "import pydataset as data\n",
    "\n",
    "#Importing pre-written scripts to streamline data acquisition and cleaning:\n",
    "from acquire import get_zillow_data\n",
    "from prepare import clean_telco_data, prep_telco_data\n",
    "from env import get_db_url\n",
    "from stats_toolkit import significance_test\n",
    "from wrangle import wrangle_zillow, clearing_fips"
   ]
  },
  {
   "cell_type": "code",
   "execution_count": 2,
   "id": "006c8a59",
   "metadata": {},
   "outputs": [
    {
     "data": {
      "text/html": [
       "<div>\n",
       "<style scoped>\n",
       "    .dataframe tbody tr th:only-of-type {\n",
       "        vertical-align: middle;\n",
       "    }\n",
       "\n",
       "    .dataframe tbody tr th {\n",
       "        vertical-align: top;\n",
       "    }\n",
       "\n",
       "    .dataframe thead th {\n",
       "        text-align: right;\n",
       "    }\n",
       "</style>\n",
       "<table border=\"1\" class=\"dataframe\">\n",
       "  <thead>\n",
       "    <tr style=\"text-align: right;\">\n",
       "      <th></th>\n",
       "      <th>bedroomcnt</th>\n",
       "      <th>bathroomcnt</th>\n",
       "      <th>calculatedfinishedsquarefeet</th>\n",
       "      <th>taxvaluedollarcnt</th>\n",
       "      <th>yearbuilt</th>\n",
       "      <th>taxamount</th>\n",
       "      <th>propertylandusedesc</th>\n",
       "      <th>county</th>\n",
       "    </tr>\n",
       "  </thead>\n",
       "  <tbody>\n",
       "    <tr>\n",
       "      <th>4</th>\n",
       "      <td>4</td>\n",
       "      <td>2.0</td>\n",
       "      <td>3633.0</td>\n",
       "      <td>296425.0</td>\n",
       "      <td>2005</td>\n",
       "      <td>6941.39</td>\n",
       "      <td>Single Family Residential</td>\n",
       "      <td>Los Angeles County</td>\n",
       "    </tr>\n",
       "    <tr>\n",
       "      <th>6</th>\n",
       "      <td>3</td>\n",
       "      <td>4.0</td>\n",
       "      <td>1620.0</td>\n",
       "      <td>847770.0</td>\n",
       "      <td>2011</td>\n",
       "      <td>10244.94</td>\n",
       "      <td>Single Family Residential</td>\n",
       "      <td>Los Angeles County</td>\n",
       "    </tr>\n",
       "    <tr>\n",
       "      <th>7</th>\n",
       "      <td>3</td>\n",
       "      <td>2.0</td>\n",
       "      <td>2077.0</td>\n",
       "      <td>646760.0</td>\n",
       "      <td>1926</td>\n",
       "      <td>7924.68</td>\n",
       "      <td>Single Family Residential</td>\n",
       "      <td>Los Angeles County</td>\n",
       "    </tr>\n",
       "    <tr>\n",
       "      <th>11</th>\n",
       "      <td>0</td>\n",
       "      <td>0.0</td>\n",
       "      <td>1200.0</td>\n",
       "      <td>5328.0</td>\n",
       "      <td>1972</td>\n",
       "      <td>91.60</td>\n",
       "      <td>Single Family Residential</td>\n",
       "      <td>Los Angeles County</td>\n",
       "    </tr>\n",
       "    <tr>\n",
       "      <th>14</th>\n",
       "      <td>0</td>\n",
       "      <td>0.0</td>\n",
       "      <td>171.0</td>\n",
       "      <td>6920.0</td>\n",
       "      <td>1973</td>\n",
       "      <td>255.17</td>\n",
       "      <td>Single Family Residential</td>\n",
       "      <td>Los Angeles County</td>\n",
       "    </tr>\n",
       "    <tr>\n",
       "      <th>...</th>\n",
       "      <td>...</td>\n",
       "      <td>...</td>\n",
       "      <td>...</td>\n",
       "      <td>...</td>\n",
       "      <td>...</td>\n",
       "      <td>...</td>\n",
       "      <td>...</td>\n",
       "      <td>...</td>\n",
       "    </tr>\n",
       "    <tr>\n",
       "      <th>2152856</th>\n",
       "      <td>4</td>\n",
       "      <td>4.0</td>\n",
       "      <td>4375.0</td>\n",
       "      <td>422400.0</td>\n",
       "      <td>2015</td>\n",
       "      <td>13877.56</td>\n",
       "      <td>Single Family Residential</td>\n",
       "      <td>Los Angeles County</td>\n",
       "    </tr>\n",
       "    <tr>\n",
       "      <th>2152858</th>\n",
       "      <td>4</td>\n",
       "      <td>3.0</td>\n",
       "      <td>2262.0</td>\n",
       "      <td>960756.0</td>\n",
       "      <td>2015</td>\n",
       "      <td>13494.52</td>\n",
       "      <td>Single Family Residential</td>\n",
       "      <td>Orange County</td>\n",
       "    </tr>\n",
       "    <tr>\n",
       "      <th>2152859</th>\n",
       "      <td>4</td>\n",
       "      <td>4.5</td>\n",
       "      <td>3127.0</td>\n",
       "      <td>536061.0</td>\n",
       "      <td>2014</td>\n",
       "      <td>6244.16</td>\n",
       "      <td>Single Family Residential</td>\n",
       "      <td>Orange County</td>\n",
       "    </tr>\n",
       "    <tr>\n",
       "      <th>2152861</th>\n",
       "      <td>3</td>\n",
       "      <td>2.5</td>\n",
       "      <td>1974.0</td>\n",
       "      <td>424353.0</td>\n",
       "      <td>2015</td>\n",
       "      <td>5302.70</td>\n",
       "      <td>Single Family Residential</td>\n",
       "      <td>Orange County</td>\n",
       "    </tr>\n",
       "    <tr>\n",
       "      <th>2152862</th>\n",
       "      <td>4</td>\n",
       "      <td>4.0</td>\n",
       "      <td>2110.0</td>\n",
       "      <td>554009.0</td>\n",
       "      <td>2014</td>\n",
       "      <td>6761.20</td>\n",
       "      <td>Single Family Residential</td>\n",
       "      <td>Los Angeles County</td>\n",
       "    </tr>\n",
       "  </tbody>\n",
       "</table>\n",
       "<p>2140133 rows × 8 columns</p>\n",
       "</div>"
      ],
      "text/plain": [
       "         bedroomcnt  bathroomcnt  calculatedfinishedsquarefeet  \\\n",
       "4                 4          2.0                        3633.0   \n",
       "6                 3          4.0                        1620.0   \n",
       "7                 3          2.0                        2077.0   \n",
       "11                0          0.0                        1200.0   \n",
       "14                0          0.0                         171.0   \n",
       "...             ...          ...                           ...   \n",
       "2152856           4          4.0                        4375.0   \n",
       "2152858           4          3.0                        2262.0   \n",
       "2152859           4          4.5                        3127.0   \n",
       "2152861           3          2.5                        1974.0   \n",
       "2152862           4          4.0                        2110.0   \n",
       "\n",
       "         taxvaluedollarcnt  yearbuilt  taxamount        propertylandusedesc  \\\n",
       "4                 296425.0       2005    6941.39  Single Family Residential   \n",
       "6                 847770.0       2011   10244.94  Single Family Residential   \n",
       "7                 646760.0       1926    7924.68  Single Family Residential   \n",
       "11                  5328.0       1972      91.60  Single Family Residential   \n",
       "14                  6920.0       1973     255.17  Single Family Residential   \n",
       "...                    ...        ...        ...                        ...   \n",
       "2152856           422400.0       2015   13877.56  Single Family Residential   \n",
       "2152858           960756.0       2015   13494.52  Single Family Residential   \n",
       "2152859           536061.0       2014    6244.16  Single Family Residential   \n",
       "2152861           424353.0       2015    5302.70  Single Family Residential   \n",
       "2152862           554009.0       2014    6761.20  Single Family Residential   \n",
       "\n",
       "                     county  \n",
       "4        Los Angeles County  \n",
       "6        Los Angeles County  \n",
       "7        Los Angeles County  \n",
       "11       Los Angeles County  \n",
       "14       Los Angeles County  \n",
       "...                     ...  \n",
       "2152856  Los Angeles County  \n",
       "2152858       Orange County  \n",
       "2152859       Orange County  \n",
       "2152861       Orange County  \n",
       "2152862  Los Angeles County  \n",
       "\n",
       "[2140133 rows x 8 columns]"
      ]
     },
     "execution_count": 2,
     "metadata": {},
     "output_type": "execute_result"
    }
   ],
   "source": [
    "df = wrangle_zillow()\n",
    "df"
   ]
  },
  {
   "cell_type": "code",
   "execution_count": 3,
   "id": "6206166d",
   "metadata": {},
   "outputs": [],
   "source": [
    "train_and_validate, test = train_test_split(df, test_size = .2, random_state=123)\n",
    "train, validate = train_test_split(train_and_validate, test_size = .3, random_state = 123)"
   ]
  },
  {
   "cell_type": "code",
   "execution_count": 4,
   "id": "e72b6443",
   "metadata": {},
   "outputs": [
    {
     "data": {
      "text/plain": [
       "['bedroomcnt',\n",
       " 'bathroomcnt',\n",
       " 'calculatedfinishedsquarefeet',\n",
       " 'taxvaluedollarcnt',\n",
       " 'yearbuilt',\n",
       " 'taxamount',\n",
       " 'propertylandusedesc',\n",
       " 'county']"
      ]
     },
     "execution_count": 4,
     "metadata": {},
     "output_type": "execute_result"
    }
   ],
   "source": [
    "train.columns.tolist()"
   ]
  },
  {
   "cell_type": "markdown",
   "id": "7bc3b551",
   "metadata": {},
   "source": [
    "# Exercises:"
   ]
  },
  {
   "cell_type": "markdown",
   "id": "ad35002e",
   "metadata": {},
   "source": [
    "## 1. Apply the scalers we talked about in this lesson to your data and visualize the results for the unscaled and scaled distribution."
   ]
  },
  {
   "cell_type": "code",
   "execution_count": 5,
   "id": "845fcc19",
   "metadata": {},
   "outputs": [],
   "source": [
    "#Creating separate test/validate dataframes for the variables I want to scale, and separating their respective target variables, in a single step.\n",
    "X_train, X_test = train[['calculatedfinishedsquarefeet', 'taxamount']], test[['calculatedfinishedsquarefeet', 'taxamount']]\n",
    "y_train, y_test = train.taxvaluedollarcnt, test.taxvaluedollarcnt"
   ]
  },
  {
   "cell_type": "code",
   "execution_count": 6,
   "id": "1e07760a",
   "metadata": {},
   "outputs": [
    {
     "data": {
      "text/html": [
       "<div>\n",
       "<style scoped>\n",
       "    .dataframe tbody tr th:only-of-type {\n",
       "        vertical-align: middle;\n",
       "    }\n",
       "\n",
       "    .dataframe tbody tr th {\n",
       "        vertical-align: top;\n",
       "    }\n",
       "\n",
       "    .dataframe thead th {\n",
       "        text-align: right;\n",
       "    }\n",
       "</style>\n",
       "<table border=\"1\" class=\"dataframe\">\n",
       "  <thead>\n",
       "    <tr style=\"text-align: right;\">\n",
       "      <th></th>\n",
       "      <th>calculatedfinishedsquarefeet</th>\n",
       "      <th>taxamount</th>\n",
       "    </tr>\n",
       "  </thead>\n",
       "  <tbody>\n",
       "    <tr>\n",
       "      <th>663837</th>\n",
       "      <td>841.0</td>\n",
       "      <td>2123.73</td>\n",
       "    </tr>\n",
       "    <tr>\n",
       "      <th>745486</th>\n",
       "      <td>1719.0</td>\n",
       "      <td>3318.95</td>\n",
       "    </tr>\n",
       "    <tr>\n",
       "      <th>1170071</th>\n",
       "      <td>1505.0</td>\n",
       "      <td>3393.22</td>\n",
       "    </tr>\n",
       "    <tr>\n",
       "      <th>28048</th>\n",
       "      <td>1230.0</td>\n",
       "      <td>2837.94</td>\n",
       "    </tr>\n",
       "    <tr>\n",
       "      <th>1034274</th>\n",
       "      <td>1640.0</td>\n",
       "      <td>3801.66</td>\n",
       "    </tr>\n",
       "    <tr>\n",
       "      <th>...</th>\n",
       "      <td>...</td>\n",
       "      <td>...</td>\n",
       "    </tr>\n",
       "    <tr>\n",
       "      <th>172946</th>\n",
       "      <td>1284.0</td>\n",
       "      <td>4470.16</td>\n",
       "    </tr>\n",
       "    <tr>\n",
       "      <th>1081817</th>\n",
       "      <td>1863.0</td>\n",
       "      <td>3629.14</td>\n",
       "    </tr>\n",
       "    <tr>\n",
       "      <th>1043617</th>\n",
       "      <td>2325.0</td>\n",
       "      <td>4848.72</td>\n",
       "    </tr>\n",
       "    <tr>\n",
       "      <th>1703282</th>\n",
       "      <td>1862.0</td>\n",
       "      <td>3099.61</td>\n",
       "    </tr>\n",
       "    <tr>\n",
       "      <th>635532</th>\n",
       "      <td>1543.0</td>\n",
       "      <td>1514.40</td>\n",
       "    </tr>\n",
       "  </tbody>\n",
       "</table>\n",
       "<p>428027 rows × 2 columns</p>\n",
       "</div>"
      ],
      "text/plain": [
       "         calculatedfinishedsquarefeet  taxamount\n",
       "663837                          841.0    2123.73\n",
       "745486                         1719.0    3318.95\n",
       "1170071                        1505.0    3393.22\n",
       "28048                          1230.0    2837.94\n",
       "1034274                        1640.0    3801.66\n",
       "...                               ...        ...\n",
       "172946                         1284.0    4470.16\n",
       "1081817                        1863.0    3629.14\n",
       "1043617                        2325.0    4848.72\n",
       "1703282                        1862.0    3099.61\n",
       "635532                         1543.0    1514.40\n",
       "\n",
       "[428027 rows x 2 columns]"
      ]
     },
     "execution_count": 6,
     "metadata": {},
     "output_type": "execute_result"
    }
   ],
   "source": [
    "X_test"
   ]
  },
  {
   "cell_type": "markdown",
   "id": "cb7ed24a",
   "metadata": {},
   "source": [
    "### Min-Max Scaler:"
   ]
  },
  {
   "cell_type": "code",
   "execution_count": 7,
   "id": "29786520",
   "metadata": {},
   "outputs": [
    {
     "data": {
      "image/png": "[encoded data removed]",
      "text/plain": [
       "<Figure size 936x720 with 2 Axes>"
      ]
     },
     "metadata": {
      "needs_background": "light"
     },
     "output_type": "display_data"
    }
   ],
   "source": [
    "scaler = MinMaxScaler()\n",
    "#fit_transform is a way to do .fit and .transform in a single line, but the effect is the same.\n",
    "X_train_scaled = scaler.fit_transform(X_train)\n",
    "\n",
    "plt.figure(figsize=(13, 10))\n",
    "plt.subplot(121)\n",
    "plt.hist(X_train, bins=25)\n",
    "plt.title('Original')\n",
    "plt.subplot(122)\n",
    "plt.hist(X_train_scaled, bins=25)\n",
    "plt.title('Scaled');"
   ]
  },
  {
   "cell_type": "code",
   "execution_count": 8,
   "id": "92f4481a",
   "metadata": {},
   "outputs": [
    {
     "data": {
      "text/plain": [
       "array([[0.0036828 , 0.00562743],\n",
       "       [0.0028939 , 0.00413077],\n",
       "       [0.00229893, 0.00524114],\n",
       "       ...,\n",
       "       [0.00222738, 0.00422042],\n",
       "       [0.0033872 , 0.00503052],\n",
       "       [0.00403678, 0.00670161]])"
      ]
     },
     "execution_count": 8,
     "metadata": {},
     "output_type": "execute_result"
    }
   ],
   "source": [
    "scaler.fit_transform(X_train)"
   ]
  },
  {
   "cell_type": "markdown",
   "id": "1e81244a",
   "metadata": {},
   "source": [
    "### Standard Scaler:"
   ]
  },
  {
   "cell_type": "code",
   "execution_count": 9,
   "id": "baf860de",
   "metadata": {},
   "outputs": [
    {
     "data": {
      "text/plain": [
       "Text(0.5, 1.0, 'Scaled')"
      ]
     },
     "execution_count": 9,
     "metadata": {},
     "output_type": "execute_result"
    },
    {
     "data": {
      "image/png": "[encoded data removed]",
      "text/plain": [
       "<Figure size 936x720 with 2 Axes>"
      ]
     },
     "metadata": {
      "needs_background": "light"
     },
     "output_type": "display_data"
    }
   ],
   "source": [
    "scaler = StandardScaler()\n",
    "X_train_scaled = scaler.fit_transform(X_train)\n",
    "X_test_scaled = scaler.transform(X_test)\n",
    "\n",
    "plt.figure(figsize=(13, 10))\n",
    "plt.subplot(121)\n",
    "plt.hist(X_train, bins=25)\n",
    "plt.title('Original')\n",
    "plt.subplot(122)\n",
    "plt.hist(X_train_scaled, bins=25)\n",
    "plt.title('Scaled')"
   ]
  },
  {
   "cell_type": "code",
   "execution_count": 10,
   "id": "5b0b9773",
   "metadata": {},
   "outputs": [
    {
     "data": {
      "text/plain": [
       "Text(0.5, 1.0, 'Scaled')"
      ]
     },
     "execution_count": 10,
     "metadata": {},
     "output_type": "execute_result"
    },
    {
     "data": {
      "image/png": "[encoded data removed]",
      "text/plain": [
       "<Figure size 936x720 with 2 Axes>"
      ]
     },
     "metadata": {
      "needs_background": "light"
     },
     "output_type": "display_data"
    }
   ],
   "source": [
    "scaler = RobustScaler()\n",
    "X_train_scaled = scaler.fit_transform(X_train)\n",
    "X_test_scaled = scaler.transform(X_test)\n",
    "\n",
    "plt.figure(figsize=(13, 10))\n",
    "plt.subplot(121)\n",
    "plt.hist(X_train, bins=200)\n",
    "plt.title('Original')\n",
    "plt.subplot(122)\n",
    "plt.hist(X_train_scaled, bins=200)\n",
    "plt.title('Scaled')"
   ]
  },
  {
   "cell_type": "markdown",
   "id": "9b1e5d1e",
   "metadata": {},
   "source": [
    "## 2. Apply the .inverse_transform method to your scaled data. Is the resulting dataset the exact same as the original data?"
   ]
  },
  {
   "cell_type": "code",
   "execution_count": 26,
   "id": "b4a2618b",
   "metadata": {
    "scrolled": false
   },
   "outputs": [],
   "source": [
    "#Recreating the scaled dataset with the min-max scaler:\n",
    "scaler = MinMaxScaler()\n",
    "#fit_transform is a way to do .fit and .transform in a single line, but the effect is the same.\n",
    "scaler.fit(X_train)\n",
    "X_train_scaled = scaler.transform(X_train)"
   ]
  },
  {
   "cell_type": "code",
   "execution_count": 27,
   "id": "92fbc56c",
   "metadata": {},
   "outputs": [
    {
     "data": {
      "text/plain": [
       "array([[1957.  , 5926.76],\n",
       "       [1538.  , 4352.18],\n",
       "       [1222.  , 5520.36],\n",
       "       ...,\n",
       "       [1184.  , 4446.49],\n",
       "       [1800.  , 5298.77],\n",
       "       [2145.  , 7056.86]])"
      ]
     },
     "execution_count": 27,
     "metadata": {},
     "output_type": "execute_result"
    }
   ],
   "source": [
    "#Running inverse_transform to try to revert the data to its original form (i.e. run the scaler in reverse to get original data):\n",
    "scaler.inverse_transform(X_train_scaled)"
   ]
  },
  {
   "cell_type": "code",
   "execution_count": 31,
   "id": "6acdd71a",
   "metadata": {},
   "outputs": [
    {
     "data": {
      "text/plain": [
       "calculatedfinishedsquarefeet  taxamount\n",
       "True                          True         1181211\n",
       "False                         True           13328\n",
       "True                          False           3886\n",
       "False                         False             49\n",
       "dtype: int64"
      ]
     },
     "execution_count": 31,
     "metadata": {},
     "output_type": "execute_result"
    }
   ],
   "source": [
    "#Checking whether the inverse_transformed data is truly reverted back to the form of the original data:\n",
    "(X_train == scaler.inverse_transform(X_train_scaled)).value_counts()"
   ]
  },
  {
   "cell_type": "markdown",
   "id": "0a5a8e84",
   "metadata": {},
   "source": [
    "The above shows that although I ran the inverse_transform function, the data didn't go 100% back to its original form. This is likely due to how Python handles floats in calculations, so the variation could be due to rounding errors. "
   ]
  },
  {
   "cell_type": "markdown",
   "id": "784827f1",
   "metadata": {},
   "source": [
    "## 3. Read the documentation for sklearn's QuantileTransformer. Use normal for the output_distribution and apply this scaler to your data. Visualize the result of your data scaling."
   ]
  },
  {
   "cell_type": "code",
   "execution_count": 32,
   "id": "67a86c08",
   "metadata": {},
   "outputs": [
    {
     "data": {
      "text/plain": [
       "QuantileTransformer(output_distribution='normal')"
      ]
     },
     "execution_count": 32,
     "metadata": {},
     "output_type": "execute_result"
    }
   ],
   "source": [
    "qt = df[['calculatedfinishedsquarefeet']]\n",
    "qnt_transformer = QuantileTransformer(output_distribution = 'normal')\n",
    "qnt_transformer.fit(qt)"
   ]
  },
  {
   "cell_type": "code",
   "execution_count": 33,
   "id": "4a00b983",
   "metadata": {},
   "outputs": [
    {
     "data": {
      "text/html": [
       "<div>\n",
       "<style scoped>\n",
       "    .dataframe tbody tr th:only-of-type {\n",
       "        vertical-align: middle;\n",
       "    }\n",
       "\n",
       "    .dataframe tbody tr th {\n",
       "        vertical-align: top;\n",
       "    }\n",
       "\n",
       "    .dataframe thead th {\n",
       "        text-align: right;\n",
       "    }\n",
       "</style>\n",
       "<table border=\"1\" class=\"dataframe\">\n",
       "  <thead>\n",
       "    <tr style=\"text-align: right;\">\n",
       "      <th></th>\n",
       "      <th>calculatedfinishedsquarefeet</th>\n",
       "      <th>sqft_scaled</th>\n",
       "    </tr>\n",
       "  </thead>\n",
       "  <tbody>\n",
       "    <tr>\n",
       "      <th>4</th>\n",
       "      <td>3633.0</td>\n",
       "      <td>1.686442</td>\n",
       "    </tr>\n",
       "    <tr>\n",
       "      <th>6</th>\n",
       "      <td>1620.0</td>\n",
       "      <td>-0.006273</td>\n",
       "    </tr>\n",
       "    <tr>\n",
       "      <th>7</th>\n",
       "      <td>2077.0</td>\n",
       "      <td>0.543062</td>\n",
       "    </tr>\n",
       "    <tr>\n",
       "      <th>11</th>\n",
       "      <td>1200.0</td>\n",
       "      <td>-0.823172</td>\n",
       "    </tr>\n",
       "    <tr>\n",
       "      <th>14</th>\n",
       "      <td>171.0</td>\n",
       "      <td>-3.335003</td>\n",
       "    </tr>\n",
       "    <tr>\n",
       "      <th>...</th>\n",
       "      <td>...</td>\n",
       "      <td>...</td>\n",
       "    </tr>\n",
       "    <tr>\n",
       "      <th>2152856</th>\n",
       "      <td>4375.0</td>\n",
       "      <td>2.018458</td>\n",
       "    </tr>\n",
       "    <tr>\n",
       "      <th>2152858</th>\n",
       "      <td>2262.0</td>\n",
       "      <td>0.716298</td>\n",
       "    </tr>\n",
       "    <tr>\n",
       "      <th>2152859</th>\n",
       "      <td>3127.0</td>\n",
       "      <td>1.391202</td>\n",
       "    </tr>\n",
       "    <tr>\n",
       "      <th>2152861</th>\n",
       "      <td>1974.0</td>\n",
       "      <td>0.439001</td>\n",
       "    </tr>\n",
       "    <tr>\n",
       "      <th>2152862</th>\n",
       "      <td>2110.0</td>\n",
       "      <td>0.577536</td>\n",
       "    </tr>\n",
       "  </tbody>\n",
       "</table>\n",
       "<p>2140133 rows × 2 columns</p>\n",
       "</div>"
      ],
      "text/plain": [
       "         calculatedfinishedsquarefeet  sqft_scaled\n",
       "4                              3633.0     1.686442\n",
       "6                              1620.0    -0.006273\n",
       "7                              2077.0     0.543062\n",
       "11                             1200.0    -0.823172\n",
       "14                              171.0    -3.335003\n",
       "...                               ...          ...\n",
       "2152856                        4375.0     2.018458\n",
       "2152858                        2262.0     0.716298\n",
       "2152859                        3127.0     1.391202\n",
       "2152861                        1974.0     0.439001\n",
       "2152862                        2110.0     0.577536\n",
       "\n",
       "[2140133 rows x 2 columns]"
      ]
     },
     "execution_count": 33,
     "metadata": {},
     "output_type": "execute_result"
    }
   ],
   "source": [
    "scaled_qt = qnt_transformer.transform(qt)\n",
    "qt['sqft_scaled'] = scaled_qt\n",
    "qt"
   ]
  },
  {
   "cell_type": "code",
   "execution_count": 34,
   "id": "25f4ff60",
   "metadata": {},
   "outputs": [
    {
     "data": {
      "text/plain": [
       "Text(0.5, 1.0, 'Scaled')"
      ]
     },
     "execution_count": 34,
     "metadata": {},
     "output_type": "execute_result"
    },
    {
     "data": {
      "image/png": "[encoded data removed]",
      "text/plain": [
       "<Figure size 936x432 with 2 Axes>"
      ]
     },
     "metadata": {
      "needs_background": "light"
     },
     "output_type": "display_data"
    }
   ],
   "source": [
    "#Copied Adam's code and changed variables to graph distributions:\n",
    "plt.figure(figsize=(13, 6))\n",
    "plt.subplot(121)\n",
    "plt.hist(qt['calculatedfinishedsquarefeet'], bins=200)\n",
    "plt.title('Original')\n",
    "plt.subplot(122)\n",
    "plt.hist(qt['sqft_scaled'], bins=200)\n",
    "plt.title('Scaled')"
   ]
  },
  {
   "cell_type": "markdown",
   "id": "1bc40f2f",
   "metadata": {},
   "source": [
    "The above shows that the quantile transformer converts non-normal data, and as Adam puts it, 'smushificates' it to force it into a normal distribution. One aspect of this is that it diminishes the impact of outliers. "
   ]
  },
  {
   "cell_type": "code",
   "execution_count": null,
   "id": "970cebbc",
   "metadata": {},
   "outputs": [],
   "source": []
  },
  {
   "cell_type": "code",
   "execution_count": null,
   "id": "f2d9f797",
   "metadata": {},
   "outputs": [],
   "source": []
  }
 ],
 "metadata": {
  "kernelspec": {
   "display_name": "Python 3 (ipykernel)",
   "language": "python",
   "name": "python3"
  },
  "language_info": {
   "codemirror_mode": {
    "name": "ipython",
    "version": 3
   },
   "file_extension": ".py",
   "mimetype": "text/x-python",
   "name": "python",
   "nbconvert_exporter": "python",
   "pygments_lexer": "ipython3",
   "version": "3.9.7"
  }
 },
 "nbformat": 4,
 "nbformat_minor": 5
}
