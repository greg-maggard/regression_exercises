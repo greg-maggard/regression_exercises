{
 "cells": [
  {
   "cell_type": "code",
   "execution_count": 1,
   "id": "5f99e0e0",
   "metadata": {},
   "outputs": [],
   "source": [
    "%matplotlib inline\n",
    "\n",
    "#Importing Functions and Libraries\n",
    "\n",
    "import warnings\n",
    "warnings.filterwarnings(\"ignore\")\n",
    "\n",
    "import pandas as pd\n",
    "import numpy as np\n",
    "import matplotlib.pyplot as plt\n",
    "import seaborn as sns\n",
    "from scipy import stats\n",
    "from sklearn.neighbors import KNeighborsClassifier\n",
    "from sklearn.model_selection import train_test_split\n",
    "from sklearn.metrics import confusion_matrix\n",
    "from sklearn.preprocessing import MinMaxScaler, StandardScaler, RobustScaler, QuantileTransformer\n",
    "import pydataset as data\n",
    "\n",
    "#Importing pre-written scripts to streamline data acquisition and cleaning:\n",
    "from acquire import get_zillow_data\n",
    "from prepare import clean_telco_data, prep_telco_data\n",
    "from env import get_db_url\n",
    "from stats_toolkit import significance_test\n",
    "from wrangle import wrangle_zillow, clearing_fips"
   ]
  },
  {
   "cell_type": "code",
   "execution_count": 2,
   "id": "006c8a59",
   "metadata": {},
   "outputs": [
    {
     "data": {
      "text/html": [
       "<div>\n",
       "<style scoped>\n",
       "    .dataframe tbody tr th:only-of-type {\n",
       "        vertical-align: middle;\n",
       "    }\n",
       "\n",
       "    .dataframe tbody tr th {\n",
       "        vertical-align: top;\n",
       "    }\n",
       "\n",
       "    .dataframe thead th {\n",
       "        text-align: right;\n",
       "    }\n",
       "</style>\n",
       "<table border=\"1\" class=\"dataframe\">\n",
       "  <thead>\n",
       "    <tr style=\"text-align: right;\">\n",
       "      <th></th>\n",
       "      <th>bedroomcnt</th>\n",
       "      <th>bathroomcnt</th>\n",
       "      <th>calculatedfinishedsquarefeet</th>\n",
       "      <th>taxvaluedollarcnt</th>\n",
       "      <th>yearbuilt</th>\n",
       "      <th>taxamount</th>\n",
       "      <th>propertylandusedesc</th>\n",
       "      <th>county</th>\n",
       "    </tr>\n",
       "  </thead>\n",
       "  <tbody>\n",
       "    <tr>\n",
       "      <th>4</th>\n",
       "      <td>4</td>\n",
       "      <td>2.0</td>\n",
       "      <td>3633.0</td>\n",
       "      <td>296425.0</td>\n",
       "      <td>2005</td>\n",
       "      <td>6941.39</td>\n",
       "      <td>Single Family Residential</td>\n",
       "      <td>Los Angeles County</td>\n",
       "    </tr>\n",
       "    <tr>\n",
       "      <th>6</th>\n",
       "      <td>3</td>\n",
       "      <td>4.0</td>\n",
       "      <td>1620.0</td>\n",
       "      <td>847770.0</td>\n",
       "      <td>2011</td>\n",
       "      <td>10244.94</td>\n",
       "      <td>Single Family Residential</td>\n",
       "      <td>Los Angeles County</td>\n",
       "    </tr>\n",
       "    <tr>\n",
       "      <th>7</th>\n",
       "      <td>3</td>\n",
       "      <td>2.0</td>\n",
       "      <td>2077.0</td>\n",
       "      <td>646760.0</td>\n",
       "      <td>1926</td>\n",
       "      <td>7924.68</td>\n",
       "      <td>Single Family Residential</td>\n",
       "      <td>Los Angeles County</td>\n",
       "    </tr>\n",
       "    <tr>\n",
       "      <th>11</th>\n",
       "      <td>0</td>\n",
       "      <td>0.0</td>\n",
       "      <td>1200.0</td>\n",
       "      <td>5328.0</td>\n",
       "      <td>1972</td>\n",
       "      <td>91.60</td>\n",
       "      <td>Single Family Residential</td>\n",
       "      <td>Los Angeles County</td>\n",
       "    </tr>\n",
       "    <tr>\n",
       "      <th>14</th>\n",
       "      <td>0</td>\n",
       "      <td>0.0</td>\n",
       "      <td>171.0</td>\n",
       "      <td>6920.0</td>\n",
       "      <td>1973</td>\n",
       "      <td>255.17</td>\n",
       "      <td>Single Family Residential</td>\n",
       "      <td>Los Angeles County</td>\n",
       "    </tr>\n",
       "    <tr>\n",
       "      <th>...</th>\n",
       "      <td>...</td>\n",
       "      <td>...</td>\n",
       "      <td>...</td>\n",
       "      <td>...</td>\n",
       "      <td>...</td>\n",
       "      <td>...</td>\n",
       "      <td>...</td>\n",
       "      <td>...</td>\n",
       "    </tr>\n",
       "    <tr>\n",
       "      <th>2152856</th>\n",
       "      <td>4</td>\n",
       "      <td>4.0</td>\n",
       "      <td>4375.0</td>\n",
       "      <td>422400.0</td>\n",
       "      <td>2015</td>\n",
       "      <td>13877.56</td>\n",
       "      <td>Single Family Residential</td>\n",
       "      <td>Los Angeles County</td>\n",
       "    </tr>\n",
       "    <tr>\n",
       "      <th>2152858</th>\n",
       "      <td>4</td>\n",
       "      <td>3.0</td>\n",
       "      <td>2262.0</td>\n",
       "      <td>960756.0</td>\n",
       "      <td>2015</td>\n",
       "      <td>13494.52</td>\n",
       "      <td>Single Family Residential</td>\n",
       "      <td>Orange County</td>\n",
       "    </tr>\n",
       "    <tr>\n",
       "      <th>2152859</th>\n",
       "      <td>4</td>\n",
       "      <td>4.5</td>\n",
       "      <td>3127.0</td>\n",
       "      <td>536061.0</td>\n",
       "      <td>2014</td>\n",
       "      <td>6244.16</td>\n",
       "      <td>Single Family Residential</td>\n",
       "      <td>Orange County</td>\n",
       "    </tr>\n",
       "    <tr>\n",
       "      <th>2152861</th>\n",
       "      <td>3</td>\n",
       "      <td>2.5</td>\n",
       "      <td>1974.0</td>\n",
       "      <td>424353.0</td>\n",
       "      <td>2015</td>\n",
       "      <td>5302.70</td>\n",
       "      <td>Single Family Residential</td>\n",
       "      <td>Orange County</td>\n",
       "    </tr>\n",
       "    <tr>\n",
       "      <th>2152862</th>\n",
       "      <td>4</td>\n",
       "      <td>4.0</td>\n",
       "      <td>2110.0</td>\n",
       "      <td>554009.0</td>\n",
       "      <td>2014</td>\n",
       "      <td>6761.20</td>\n",
       "      <td>Single Family Residential</td>\n",
       "      <td>Los Angeles County</td>\n",
       "    </tr>\n",
       "  </tbody>\n",
       "</table>\n",
       "<p>2140133 rows × 8 columns</p>\n",
       "</div>"
      ],
      "text/plain": [
       "         bedroomcnt  bathroomcnt  calculatedfinishedsquarefeet  \\\n",
       "4                 4          2.0                        3633.0   \n",
       "6                 3          4.0                        1620.0   \n",
       "7                 3          2.0                        2077.0   \n",
       "11                0          0.0                        1200.0   \n",
       "14                0          0.0                         171.0   \n",
       "...             ...          ...                           ...   \n",
       "2152856           4          4.0                        4375.0   \n",
       "2152858           4          3.0                        2262.0   \n",
       "2152859           4          4.5                        3127.0   \n",
       "2152861           3          2.5                        1974.0   \n",
       "2152862           4          4.0                        2110.0   \n",
       "\n",
       "         taxvaluedollarcnt  yearbuilt  taxamount        propertylandusedesc  \\\n",
       "4                 296425.0       2005    6941.39  Single Family Residential   \n",
       "6                 847770.0       2011   10244.94  Single Family Residential   \n",
       "7                 646760.0       1926    7924.68  Single Family Residential   \n",
       "11                  5328.0       1972      91.60  Single Family Residential   \n",
       "14                  6920.0       1973     255.17  Single Family Residential   \n",
       "...                    ...        ...        ...                        ...   \n",
       "2152856           422400.0       2015   13877.56  Single Family Residential   \n",
       "2152858           960756.0       2015   13494.52  Single Family Residential   \n",
       "2152859           536061.0       2014    6244.16  Single Family Residential   \n",
       "2152861           424353.0       2015    5302.70  Single Family Residential   \n",
       "2152862           554009.0       2014    6761.20  Single Family Residential   \n",
       "\n",
       "                     county  \n",
       "4        Los Angeles County  \n",
       "6        Los Angeles County  \n",
       "7        Los Angeles County  \n",
       "11       Los Angeles County  \n",
       "14       Los Angeles County  \n",
       "...                     ...  \n",
       "2152856  Los Angeles County  \n",
       "2152858       Orange County  \n",
       "2152859       Orange County  \n",
       "2152861       Orange County  \n",
       "2152862  Los Angeles County  \n",
       "\n",
       "[2140133 rows x 8 columns]"
      ]
     },
     "execution_count": 2,
     "metadata": {},
     "output_type": "execute_result"
    }
   ],
   "source": [
    "df = wrangle_zillow()\n",
    "df"
   ]
  },
  {
   "cell_type": "code",
   "execution_count": 3,
   "id": "6206166d",
   "metadata": {},
   "outputs": [],
   "source": [
    "train_and_validate, test = train_test_split(df, test_size = .2, random_state=123)\n",
    "train, validate = train_test_split(train_and_validate, test_size = .3, random_state = 123)"
   ]
  },
  {
   "cell_type": "code",
   "execution_count": 4,
   "id": "e72b6443",
   "metadata": {},
   "outputs": [
    {
     "data": {
      "text/plain": [
       "['bedroomcnt',\n",
       " 'bathroomcnt',\n",
       " 'calculatedfinishedsquarefeet',\n",
       " 'taxvaluedollarcnt',\n",
       " 'yearbuilt',\n",
       " 'taxamount',\n",
       " 'propertylandusedesc',\n",
       " 'county']"
      ]
     },
     "execution_count": 4,
     "metadata": {},
     "output_type": "execute_result"
    }
   ],
   "source": [
    "train.columns.tolist()"
   ]
  },
  {
   "cell_type": "markdown",
   "id": "7bc3b551",
   "metadata": {},
   "source": [
    "# Exercises:"
   ]
  },
  {
   "cell_type": "markdown",
   "id": "ad35002e",
   "metadata": {},
   "source": [
    "## 1. Apply the scalers we talked about in this lesson to your data and visualize the results for the unscaled and scaled distribution."
   ]
  },
  {
   "cell_type": "code",
   "execution_count": 5,
   "id": "845fcc19",
   "metadata": {},
   "outputs": [],
   "source": [
    "#Creating separate test/validate dataframes for the variables I want to scale, and separating their respective target variables, in a single step.\n",
    "X_train, X_test = train[['calculatedfinishedsquarefeet', 'taxamount']], test[['calculatedfinishedsquarefeet', 'taxamount']]\n",
    "y_train, y_test = train.taxvaluedollarcnt, test.taxvaluedollarcnt"
   ]
  },
  {
   "cell_type": "code",
   "execution_count": 6,
   "id": "1e07760a",
   "metadata": {},
   "outputs": [
    {
     "data": {
      "text/html": [
       "<div>\n",
       "<style scoped>\n",
       "    .dataframe tbody tr th:only-of-type {\n",
       "        vertical-align: middle;\n",
       "    }\n",
       "\n",
       "    .dataframe tbody tr th {\n",
       "        vertical-align: top;\n",
       "    }\n",
       "\n",
       "    .dataframe thead th {\n",
       "        text-align: right;\n",
       "    }\n",
       "</style>\n",
       "<table border=\"1\" class=\"dataframe\">\n",
       "  <thead>\n",
       "    <tr style=\"text-align: right;\">\n",
       "      <th></th>\n",
       "      <th>calculatedfinishedsquarefeet</th>\n",
       "      <th>taxamount</th>\n",
       "    </tr>\n",
       "  </thead>\n",
       "  <tbody>\n",
       "    <tr>\n",
       "      <th>663837</th>\n",
       "      <td>841.0</td>\n",
       "      <td>2123.73</td>\n",
       "    </tr>\n",
       "    <tr>\n",
       "      <th>745486</th>\n",
       "      <td>1719.0</td>\n",
       "      <td>3318.95</td>\n",
       "    </tr>\n",
       "    <tr>\n",
       "      <th>1170071</th>\n",
       "      <td>1505.0</td>\n",
       "      <td>3393.22</td>\n",
       "    </tr>\n",
       "    <tr>\n",
       "      <th>28048</th>\n",
       "      <td>1230.0</td>\n",
       "      <td>2837.94</td>\n",
       "    </tr>\n",
       "    <tr>\n",
       "      <th>1034274</th>\n",
       "      <td>1640.0</td>\n",
       "      <td>3801.66</td>\n",
       "    </tr>\n",
       "    <tr>\n",
       "      <th>...</th>\n",
       "      <td>...</td>\n",
       "      <td>...</td>\n",
       "    </tr>\n",
       "    <tr>\n",
       "      <th>172946</th>\n",
       "      <td>1284.0</td>\n",
       "      <td>4470.16</td>\n",
       "    </tr>\n",
       "    <tr>\n",
       "      <th>1081817</th>\n",
       "      <td>1863.0</td>\n",
       "      <td>3629.14</td>\n",
       "    </tr>\n",
       "    <tr>\n",
       "      <th>1043617</th>\n",
       "      <td>2325.0</td>\n",
       "      <td>4848.72</td>\n",
       "    </tr>\n",
       "    <tr>\n",
       "      <th>1703282</th>\n",
       "      <td>1862.0</td>\n",
       "      <td>3099.61</td>\n",
       "    </tr>\n",
       "    <tr>\n",
       "      <th>635532</th>\n",
       "      <td>1543.0</td>\n",
       "      <td>1514.40</td>\n",
       "    </tr>\n",
       "  </tbody>\n",
       "</table>\n",
       "<p>428027 rows × 2 columns</p>\n",
       "</div>"
      ],
      "text/plain": [
       "         calculatedfinishedsquarefeet  taxamount\n",
       "663837                          841.0    2123.73\n",
       "745486                         1719.0    3318.95\n",
       "1170071                        1505.0    3393.22\n",
       "28048                          1230.0    2837.94\n",
       "1034274                        1640.0    3801.66\n",
       "...                               ...        ...\n",
       "172946                         1284.0    4470.16\n",
       "1081817                        1863.0    3629.14\n",
       "1043617                        2325.0    4848.72\n",
       "1703282                        1862.0    3099.61\n",
       "635532                         1543.0    1514.40\n",
       "\n",
       "[428027 rows x 2 columns]"
      ]
     },
     "execution_count": 6,
     "metadata": {},
     "output_type": "execute_result"
    }
   ],
   "source": [
    "X_test"
   ]
  },
  {
   "cell_type": "markdown",
   "id": "cb7ed24a",
   "metadata": {},
   "source": [
    "### Min-Max Scaler:"
   ]
  },
  {
   "cell_type": "code",
   "execution_count": 29,
   "id": "29786520",
   "metadata": {},
   "outputs": [
    {
     "data": {
      "image/png": "[encoded data removed]",
      "text/plain": [
       "<Figure size 936x720 with 2 Axes>"
      ]
     },
     "metadata": {
      "needs_background": "light"
     },
     "output_type": "display_data"
    }
   ],
   "source": [
    "scaler = MinMaxScaler()\n",
    "#fit_transform is a way to do .fit and .transform in a single line, but the effect is the same.\n",
    "X_train_scaled = scaler.fit_transform(X_train)\n",
    "\n",
    "plt.figure(figsize=(13, 10))\n",
    "plt.subplot(121)\n",
    "plt.hist(X_train, bins=5)\n",
    "plt.title('Original')\n",
    "plt.subplot(122)\n",
    "plt.hist(X_train_scaled, bins=5)\n",
    "plt.title('Scaled');"
   ]
  },
  {
   "cell_type": "code",
   "execution_count": 8,
   "id": "92f4481a",
   "metadata": {},
   "outputs": [
    {
     "data": {
      "text/plain": [
       "array([[0.0036828 , 0.00562743],\n",
       "       [0.0028939 , 0.00413077],\n",
       "       [0.00229893, 0.00524114],\n",
       "       ...,\n",
       "       [0.00222738, 0.00422042],\n",
       "       [0.0033872 , 0.00503052],\n",
       "       [0.00403678, 0.00670161]])"
      ]
     },
     "execution_count": 8,
     "metadata": {},
     "output_type": "execute_result"
    }
   ],
   "source": [
    "scaler.fit_transform(X_train)"
   ]
  },
  {
   "cell_type": "markdown",
   "id": "1e81244a",
   "metadata": {},
   "source": [
    "### Standard Scaler:"
   ]
  },
  {
   "cell_type": "code",
   "execution_count": 27,
   "id": "baf860de",
   "metadata": {},
   "outputs": [
    {
     "data": {
      "text/plain": [
       "Text(0.5, 1.0, 'Scaled')"
      ]
     },
     "execution_count": 27,
     "metadata": {},
     "output_type": "execute_result"
    },
    {
     "data": {
      "image/png": "[encoded data removed]",
      "text/plain": [
       "<Figure size 936x720 with 2 Axes>"
      ]
     },
     "metadata": {
      "needs_background": "light"
     },
     "output_type": "display_data"
    }
   ],
   "source": [
    "scaler = StandardScaler()\n",
    "X_train_scaled = scaler.fit_transform(X_train)\n",
    "X_test_scaled = scaler.transform(X_test)\n",
    "\n",
    "plt.figure(figsize=(13, 10))\n",
    "plt.subplot(121)\n",
    "plt.hist(X_train, bins=5)\n",
    "plt.title('Original')\n",
    "plt.subplot(122)\n",
    "plt.hist(X_train_scaled, bins=5)\n",
    "plt.title('Scaled')"
   ]
  },
  {
   "cell_type": "code",
   "execution_count": 22,
   "id": "5b0b9773",
   "metadata": {},
   "outputs": [
    {
     "data": {
      "text/plain": [
       "Text(0.5, 1.0, 'Scaled')"
      ]
     },
     "execution_count": 22,
     "metadata": {},
     "output_type": "execute_result"
    },
    {
     "data": {
      "image/png": "[encoded data removed]",
      "text/plain": [
       "<Figure size 936x720 with 2 Axes>"
      ]
     },
     "metadata": {
      "needs_background": "light"
     },
     "output_type": "display_data"
    }
   ],
   "source": [
    "scaler = RobustScaler()\n",
    "X_train_scaled = scaler.fit_transform(X_train)\n",
    "X_test_scaled = scaler.transform(X_test)\n",
    "\n",
    "plt.figure(figsize=(13, 10))\n",
    "plt.subplot(121)\n",
    "plt.hist(X_train, bins=5)\n",
    "plt.title('Original')\n",
    "plt.subplot(122)\n",
    "plt.hist(X_train_scaled, bins=5)\n",
    "plt.title('Scaled')"
   ]
  },
  {
   "cell_type": "markdown",
   "id": "9b1e5d1e",
   "metadata": {},
   "source": [
    "## 2. Apply the .inverse_transform method to your scaled data. Is the resulting dataset the exact same as the original data?"
   ]
  },
  {
   "cell_type": "code",
   "execution_count": 11,
   "id": "b4a2618b",
   "metadata": {
    "scrolled": false
   },
   "outputs": [],
   "source": [
    "#Recreating the scaled dataset with the min-max scaler:\n",
    "scaler = MinMaxScaler()\n",
    "#fit_transform is a way to do .fit and .transform in a single line, but the effect is the same.\n",
    "scaler.fit(X_train)\n",
    "X_train_scaled = scaler.transform(X_train)"
   ]
  },
  {
   "cell_type": "code",
   "execution_count": 12,
   "id": "92fbc56c",
   "metadata": {},
   "outputs": [
    {
     "data": {
      "text/plain": [
       "array([[1957.  , 5926.76],\n",
       "       [1538.  , 4352.18],\n",
       "       [1222.  , 5520.36],\n",
       "       ...,\n",
       "       [1184.  , 4446.49],\n",
       "       [1800.  , 5298.77],\n",
       "       [2145.  , 7056.86]])"
      ]
     },
     "execution_count": 12,
     "metadata": {},
     "output_type": "execute_result"
    }
   ],
   "source": [
    "#Running inverse_transform to try to revert the data to its original form (i.e. run the scaler in reverse to get original data):\n",
    "scaler.inverse_transform(X_train_scaled)"
   ]
  },
  {
   "cell_type": "code",
   "execution_count": 13,
   "id": "6acdd71a",
   "metadata": {},
   "outputs": [
    {
     "data": {
      "text/plain": [
       "calculatedfinishedsquarefeet  taxamount\n",
       "True                          True         1181211\n",
       "False                         True           13328\n",
       "True                          False           3886\n",
       "False                         False             49\n",
       "dtype: int64"
      ]
     },
     "execution_count": 13,
     "metadata": {},
     "output_type": "execute_result"
    }
   ],
   "source": [
    "#Checking whether the inverse_transformed data is truly reverted back to the form of the original data:\n",
    "(X_train == scaler.inverse_transform(X_train_scaled)).value_counts()"
   ]
  },
  {
   "cell_type": "markdown",
   "id": "0a5a8e84",
   "metadata": {},
   "source": [
    "The above shows that although I ran the inverse_transform function, the data didn't go 100% back to its original form. This is likely due to how Python handles floats in calculations, so the variation could be due to rounding errors. "
   ]
  },
  {
   "cell_type": "markdown",
   "id": "784827f1",
   "metadata": {},
   "source": [
    "## 3. Read the documentation for sklearn's QuantileTransformer. Use normal for the output_distribution and apply this scaler to your data. Visualize the result of your data scaling."
   ]
  },
  {
   "cell_type": "code",
   "execution_count": 14,
   "id": "b27edb9f",
   "metadata": {},
   "outputs": [
    {
     "data": {
      "text/html": [
       "<div>\n",
       "<style scoped>\n",
       "    .dataframe tbody tr th:only-of-type {\n",
       "        vertical-align: middle;\n",
       "    }\n",
       "\n",
       "    .dataframe tbody tr th {\n",
       "        vertical-align: top;\n",
       "    }\n",
       "\n",
       "    .dataframe thead th {\n",
       "        text-align: right;\n",
       "    }\n",
       "</style>\n",
       "<table border=\"1\" class=\"dataframe\">\n",
       "  <thead>\n",
       "    <tr style=\"text-align: right;\">\n",
       "      <th></th>\n",
       "      <th>calculatedfinishedsquarefeet</th>\n",
       "    </tr>\n",
       "  </thead>\n",
       "  <tbody>\n",
       "    <tr>\n",
       "      <th>4</th>\n",
       "      <td>3633.0</td>\n",
       "    </tr>\n",
       "    <tr>\n",
       "      <th>6</th>\n",
       "      <td>1620.0</td>\n",
       "    </tr>\n",
       "    <tr>\n",
       "      <th>7</th>\n",
       "      <td>2077.0</td>\n",
       "    </tr>\n",
       "    <tr>\n",
       "      <th>11</th>\n",
       "      <td>1200.0</td>\n",
       "    </tr>\n",
       "    <tr>\n",
       "      <th>14</th>\n",
       "      <td>171.0</td>\n",
       "    </tr>\n",
       "    <tr>\n",
       "      <th>...</th>\n",
       "      <td>...</td>\n",
       "    </tr>\n",
       "    <tr>\n",
       "      <th>2152856</th>\n",
       "      <td>4375.0</td>\n",
       "    </tr>\n",
       "    <tr>\n",
       "      <th>2152858</th>\n",
       "      <td>2262.0</td>\n",
       "    </tr>\n",
       "    <tr>\n",
       "      <th>2152859</th>\n",
       "      <td>3127.0</td>\n",
       "    </tr>\n",
       "    <tr>\n",
       "      <th>2152861</th>\n",
       "      <td>1974.0</td>\n",
       "    </tr>\n",
       "    <tr>\n",
       "      <th>2152862</th>\n",
       "      <td>2110.0</td>\n",
       "    </tr>\n",
       "  </tbody>\n",
       "</table>\n",
       "<p>2140133 rows × 1 columns</p>\n",
       "</div>"
      ],
      "text/plain": [
       "         calculatedfinishedsquarefeet\n",
       "4                              3633.0\n",
       "6                              1620.0\n",
       "7                              2077.0\n",
       "11                             1200.0\n",
       "14                              171.0\n",
       "...                               ...\n",
       "2152856                        4375.0\n",
       "2152858                        2262.0\n",
       "2152859                        3127.0\n",
       "2152861                        1974.0\n",
       "2152862                        2110.0\n",
       "\n",
       "[2140133 rows x 1 columns]"
      ]
     },
     "execution_count": 14,
     "metadata": {},
     "output_type": "execute_result"
    }
   ],
   "source": [
    "df[['calculatedfinishedsquarefeet']]"
   ]
  },
  {
   "cell_type": "code",
   "execution_count": 15,
   "id": "67a86c08",
   "metadata": {},
   "outputs": [
    {
     "data": {
      "text/html": [
       "<style>#sk-container-id-1 {color: black;background-color: white;}#sk-container-id-1 pre{padding: 0;}#sk-container-id-1 div.sk-toggleable {background-color: white;}#sk-container-id-1 label.sk-toggleable__label {cursor: pointer;display: block;width: 100%;margin-bottom: 0;padding: 0.3em;box-sizing: border-box;text-align: center;}#sk-container-id-1 label.sk-toggleable__label-arrow:before {content: \"▸\";float: left;margin-right: 0.25em;color: #696969;}#sk-container-id-1 label.sk-toggleable__label-arrow:hover:before {color: black;}#sk-container-id-1 div.sk-estimator:hover label.sk-toggleable__label-arrow:before {color: black;}#sk-container-id-1 div.sk-toggleable__content {max-height: 0;max-width: 0;overflow: hidden;text-align: left;background-color: #f0f8ff;}#sk-container-id-1 div.sk-toggleable__content pre {margin: 0.2em;color: black;border-radius: 0.25em;background-color: #f0f8ff;}#sk-container-id-1 input.sk-toggleable__control:checked~div.sk-toggleable__content {max-height: 200px;max-width: 100%;overflow: auto;}#sk-container-id-1 input.sk-toggleable__control:checked~label.sk-toggleable__label-arrow:before {content: \"▾\";}#sk-container-id-1 div.sk-estimator input.sk-toggleable__control:checked~label.sk-toggleable__label {background-color: #d4ebff;}#sk-container-id-1 div.sk-label input.sk-toggleable__control:checked~label.sk-toggleable__label {background-color: #d4ebff;}#sk-container-id-1 input.sk-hidden--visually {border: 0;clip: rect(1px 1px 1px 1px);clip: rect(1px, 1px, 1px, 1px);height: 1px;margin: -1px;overflow: hidden;padding: 0;position: absolute;width: 1px;}#sk-container-id-1 div.sk-estimator {font-family: monospace;background-color: #f0f8ff;border: 1px dotted black;border-radius: 0.25em;box-sizing: border-box;margin-bottom: 0.5em;}#sk-container-id-1 div.sk-estimator:hover {background-color: #d4ebff;}#sk-container-id-1 div.sk-parallel-item::after {content: \"\";width: 100%;border-bottom: 1px solid gray;flex-grow: 1;}#sk-container-id-1 div.sk-label:hover label.sk-toggleable__label {background-color: #d4ebff;}#sk-container-id-1 div.sk-serial::before {content: \"\";position: absolute;border-left: 1px solid gray;box-sizing: border-box;top: 0;bottom: 0;left: 50%;z-index: 0;}#sk-container-id-1 div.sk-serial {display: flex;flex-direction: column;align-items: center;background-color: white;padding-right: 0.2em;padding-left: 0.2em;position: relative;}#sk-container-id-1 div.sk-item {position: relative;z-index: 1;}#sk-container-id-1 div.sk-parallel {display: flex;align-items: stretch;justify-content: center;background-color: white;position: relative;}#sk-container-id-1 div.sk-item::before, #sk-container-id-1 div.sk-parallel-item::before {content: \"\";position: absolute;border-left: 1px solid gray;box-sizing: border-box;top: 0;bottom: 0;left: 50%;z-index: -1;}#sk-container-id-1 div.sk-parallel-item {display: flex;flex-direction: column;z-index: 1;position: relative;background-color: white;}#sk-container-id-1 div.sk-parallel-item:first-child::after {align-self: flex-end;width: 50%;}#sk-container-id-1 div.sk-parallel-item:last-child::after {align-self: flex-start;width: 50%;}#sk-container-id-1 div.sk-parallel-item:only-child::after {width: 0;}#sk-container-id-1 div.sk-dashed-wrapped {border: 1px dashed gray;margin: 0 0.4em 0.5em 0.4em;box-sizing: border-box;padding-bottom: 0.4em;background-color: white;}#sk-container-id-1 div.sk-label label {font-family: monospace;font-weight: bold;display: inline-block;line-height: 1.2em;}#sk-container-id-1 div.sk-label-container {text-align: center;}#sk-container-id-1 div.sk-container {/* jupyter's `normalize.less` sets `[hidden] { display: none; }` but bootstrap.min.css set `[hidden] { display: none !important; }` so we also need the `!important` here to be able to override the default hidden behavior on the sphinx rendered scikit-learn.org. See: https://github.com/scikit-learn/scikit-learn/issues/21755 */display: inline-block !important;position: relative;}#sk-container-id-1 div.sk-text-repr-fallback {display: none;}</style><div id=\"sk-container-id-1\" class=\"sk-top-container\"><div class=\"sk-text-repr-fallback\"><pre>QuantileTransformer(output_distribution=&#x27;normal&#x27;)</pre><b>In a Jupyter environment, please rerun this cell to show the HTML representation or trust the notebook. <br />On GitHub, the HTML representation is unable to render, please try loading this page with nbviewer.org.</b></div><div class=\"sk-container\" hidden><div class=\"sk-item\"><div class=\"sk-estimator sk-toggleable\"><input class=\"sk-toggleable__control sk-hidden--visually\" id=\"sk-estimator-id-1\" type=\"checkbox\" checked><label for=\"sk-estimator-id-1\" class=\"sk-toggleable__label sk-toggleable__label-arrow\">QuantileTransformer</label><div class=\"sk-toggleable__content\"><pre>QuantileTransformer(output_distribution=&#x27;normal&#x27;)</pre></div></div></div></div></div>"
      ],
      "text/plain": [
       "QuantileTransformer(output_distribution='normal')"
      ]
     },
     "execution_count": 15,
     "metadata": {},
     "output_type": "execute_result"
    }
   ],
   "source": [
    "qt = df[['calculatedfinishedsquarefeet']]\n",
    "qnt_transformer = QuantileTransformer(output_distribution = 'normal')\n",
    "qnt_transformer.fit(qt)"
   ]
  },
  {
   "cell_type": "code",
   "execution_count": 16,
   "id": "4a00b983",
   "metadata": {},
   "outputs": [
    {
     "data": {
      "text/html": [
       "<div>\n",
       "<style scoped>\n",
       "    .dataframe tbody tr th:only-of-type {\n",
       "        vertical-align: middle;\n",
       "    }\n",
       "\n",
       "    .dataframe tbody tr th {\n",
       "        vertical-align: top;\n",
       "    }\n",
       "\n",
       "    .dataframe thead th {\n",
       "        text-align: right;\n",
       "    }\n",
       "</style>\n",
       "<table border=\"1\" class=\"dataframe\">\n",
       "  <thead>\n",
       "    <tr style=\"text-align: right;\">\n",
       "      <th></th>\n",
       "      <th>calculatedfinishedsquarefeet</th>\n",
       "      <th>sqft_scaled</th>\n",
       "    </tr>\n",
       "  </thead>\n",
       "  <tbody>\n",
       "    <tr>\n",
       "      <th>4</th>\n",
       "      <td>3633.0</td>\n",
       "      <td>1.701906</td>\n",
       "    </tr>\n",
       "    <tr>\n",
       "      <th>6</th>\n",
       "      <td>1620.0</td>\n",
       "      <td>-0.011291</td>\n",
       "    </tr>\n",
       "    <tr>\n",
       "      <th>7</th>\n",
       "      <td>2077.0</td>\n",
       "      <td>0.544759</td>\n",
       "    </tr>\n",
       "    <tr>\n",
       "      <th>11</th>\n",
       "      <td>1200.0</td>\n",
       "      <td>-0.816150</td>\n",
       "    </tr>\n",
       "    <tr>\n",
       "      <th>14</th>\n",
       "      <td>171.0</td>\n",
       "      <td>-3.320252</td>\n",
       "    </tr>\n",
       "    <tr>\n",
       "      <th>...</th>\n",
       "      <td>...</td>\n",
       "      <td>...</td>\n",
       "    </tr>\n",
       "    <tr>\n",
       "      <th>2152856</th>\n",
       "      <td>4375.0</td>\n",
       "      <td>2.027534</td>\n",
       "    </tr>\n",
       "    <tr>\n",
       "      <th>2152858</th>\n",
       "      <td>2262.0</td>\n",
       "      <td>0.720629</td>\n",
       "    </tr>\n",
       "    <tr>\n",
       "      <th>2152859</th>\n",
       "      <td>3127.0</td>\n",
       "      <td>1.396812</td>\n",
       "    </tr>\n",
       "    <tr>\n",
       "      <th>2152861</th>\n",
       "      <td>1974.0</td>\n",
       "      <td>0.439922</td>\n",
       "    </tr>\n",
       "    <tr>\n",
       "      <th>2152862</th>\n",
       "      <td>2110.0</td>\n",
       "      <td>0.579039</td>\n",
       "    </tr>\n",
       "  </tbody>\n",
       "</table>\n",
       "<p>2140133 rows × 2 columns</p>\n",
       "</div>"
      ],
      "text/plain": [
       "         calculatedfinishedsquarefeet  sqft_scaled\n",
       "4                              3633.0     1.701906\n",
       "6                              1620.0    -0.011291\n",
       "7                              2077.0     0.544759\n",
       "11                             1200.0    -0.816150\n",
       "14                              171.0    -3.320252\n",
       "...                               ...          ...\n",
       "2152856                        4375.0     2.027534\n",
       "2152858                        2262.0     0.720629\n",
       "2152859                        3127.0     1.396812\n",
       "2152861                        1974.0     0.439922\n",
       "2152862                        2110.0     0.579039\n",
       "\n",
       "[2140133 rows x 2 columns]"
      ]
     },
     "execution_count": 16,
     "metadata": {},
     "output_type": "execute_result"
    }
   ],
   "source": [
    "scaled_qt = qnt_transformer.transform(qt)\n",
    "qt['sqft_scaled'] = scaled_qt\n",
    "qt"
   ]
  },
  {
   "cell_type": "code",
   "execution_count": 26,
   "id": "25f4ff60",
   "metadata": {},
   "outputs": [
    {
     "data": {
      "text/plain": [
       "Text(0.5, 1.0, 'Scaled')"
      ]
     },
     "execution_count": 26,
     "metadata": {},
     "output_type": "execute_result"
    },
    {
     "data": {
      "image/png": "[encoded data removed]",
      "text/plain": [
       "<Figure size 936x432 with 2 Axes>"
      ]
     },
     "metadata": {
      "needs_background": "light"
     },
     "output_type": "display_data"
    }
   ],
   "source": [
    "#Copied Adam's code and changed variables to graph distributions:\n",
    "plt.figure(figsize=(13, 6))\n",
    "plt.subplot(121)\n",
    "plt.hist(qt['calculatedfinishedsquarefeet'], bins=10)\n",
    "plt.title('Original')\n",
    "plt.subplot(122)\n",
    "plt.hist(qt['sqft_scaled'], bins=200)\n",
    "plt.title('Scaled')"
   ]
  },
  {
   "cell_type": "markdown",
   "id": "1bc40f2f",
   "metadata": {},
   "source": [
    "The above shows that the quantile transformer converts non-normal data, and as Adam puts it, 'smushificates' it to force it into a normal distribution. One aspect of this is that it diminishes the impact of outliers. "
   ]
  },
  {
   "cell_type": "markdown",
   "id": "0eb3c2cd",
   "metadata": {},
   "source": [
    "## 4. Use the QuantileTransformer, but omit the output_distribution argument. Visualize your results. What do you notice?"
   ]
  },
  {
   "cell_type": "code",
   "execution_count": 18,
   "id": "f2d9f797",
   "metadata": {},
   "outputs": [
    {
     "data": {
      "text/html": [
       "<style>#sk-container-id-2 {color: black;background-color: white;}#sk-container-id-2 pre{padding: 0;}#sk-container-id-2 div.sk-toggleable {background-color: white;}#sk-container-id-2 label.sk-toggleable__label {cursor: pointer;display: block;width: 100%;margin-bottom: 0;padding: 0.3em;box-sizing: border-box;text-align: center;}#sk-container-id-2 label.sk-toggleable__label-arrow:before {content: \"▸\";float: left;margin-right: 0.25em;color: #696969;}#sk-container-id-2 label.sk-toggleable__label-arrow:hover:before {color: black;}#sk-container-id-2 div.sk-estimator:hover label.sk-toggleable__label-arrow:before {color: black;}#sk-container-id-2 div.sk-toggleable__content {max-height: 0;max-width: 0;overflow: hidden;text-align: left;background-color: #f0f8ff;}#sk-container-id-2 div.sk-toggleable__content pre {margin: 0.2em;color: black;border-radius: 0.25em;background-color: #f0f8ff;}#sk-container-id-2 input.sk-toggleable__control:checked~div.sk-toggleable__content {max-height: 200px;max-width: 100%;overflow: auto;}#sk-container-id-2 input.sk-toggleable__control:checked~label.sk-toggleable__label-arrow:before {content: \"▾\";}#sk-container-id-2 div.sk-estimator input.sk-toggleable__control:checked~label.sk-toggleable__label {background-color: #d4ebff;}#sk-container-id-2 div.sk-label input.sk-toggleable__control:checked~label.sk-toggleable__label {background-color: #d4ebff;}#sk-container-id-2 input.sk-hidden--visually {border: 0;clip: rect(1px 1px 1px 1px);clip: rect(1px, 1px, 1px, 1px);height: 1px;margin: -1px;overflow: hidden;padding: 0;position: absolute;width: 1px;}#sk-container-id-2 div.sk-estimator {font-family: monospace;background-color: #f0f8ff;border: 1px dotted black;border-radius: 0.25em;box-sizing: border-box;margin-bottom: 0.5em;}#sk-container-id-2 div.sk-estimator:hover {background-color: #d4ebff;}#sk-container-id-2 div.sk-parallel-item::after {content: \"\";width: 100%;border-bottom: 1px solid gray;flex-grow: 1;}#sk-container-id-2 div.sk-label:hover label.sk-toggleable__label {background-color: #d4ebff;}#sk-container-id-2 div.sk-serial::before {content: \"\";position: absolute;border-left: 1px solid gray;box-sizing: border-box;top: 0;bottom: 0;left: 50%;z-index: 0;}#sk-container-id-2 div.sk-serial {display: flex;flex-direction: column;align-items: center;background-color: white;padding-right: 0.2em;padding-left: 0.2em;position: relative;}#sk-container-id-2 div.sk-item {position: relative;z-index: 1;}#sk-container-id-2 div.sk-parallel {display: flex;align-items: stretch;justify-content: center;background-color: white;position: relative;}#sk-container-id-2 div.sk-item::before, #sk-container-id-2 div.sk-parallel-item::before {content: \"\";position: absolute;border-left: 1px solid gray;box-sizing: border-box;top: 0;bottom: 0;left: 50%;z-index: -1;}#sk-container-id-2 div.sk-parallel-item {display: flex;flex-direction: column;z-index: 1;position: relative;background-color: white;}#sk-container-id-2 div.sk-parallel-item:first-child::after {align-self: flex-end;width: 50%;}#sk-container-id-2 div.sk-parallel-item:last-child::after {align-self: flex-start;width: 50%;}#sk-container-id-2 div.sk-parallel-item:only-child::after {width: 0;}#sk-container-id-2 div.sk-dashed-wrapped {border: 1px dashed gray;margin: 0 0.4em 0.5em 0.4em;box-sizing: border-box;padding-bottom: 0.4em;background-color: white;}#sk-container-id-2 div.sk-label label {font-family: monospace;font-weight: bold;display: inline-block;line-height: 1.2em;}#sk-container-id-2 div.sk-label-container {text-align: center;}#sk-container-id-2 div.sk-container {/* jupyter's `normalize.less` sets `[hidden] { display: none; }` but bootstrap.min.css set `[hidden] { display: none !important; }` so we also need the `!important` here to be able to override the default hidden behavior on the sphinx rendered scikit-learn.org. See: https://github.com/scikit-learn/scikit-learn/issues/21755 */display: inline-block !important;position: relative;}#sk-container-id-2 div.sk-text-repr-fallback {display: none;}</style><div id=\"sk-container-id-2\" class=\"sk-top-container\"><div class=\"sk-text-repr-fallback\"><pre>QuantileTransformer()</pre><b>In a Jupyter environment, please rerun this cell to show the HTML representation or trust the notebook. <br />On GitHub, the HTML representation is unable to render, please try loading this page with nbviewer.org.</b></div><div class=\"sk-container\" hidden><div class=\"sk-item\"><div class=\"sk-estimator sk-toggleable\"><input class=\"sk-toggleable__control sk-hidden--visually\" id=\"sk-estimator-id-2\" type=\"checkbox\" checked><label for=\"sk-estimator-id-2\" class=\"sk-toggleable__label sk-toggleable__label-arrow\">QuantileTransformer</label><div class=\"sk-toggleable__content\"><pre>QuantileTransformer()</pre></div></div></div></div></div>"
      ],
      "text/plain": [
       "QuantileTransformer()"
      ]
     },
     "execution_count": 18,
     "metadata": {},
     "output_type": "execute_result"
    }
   ],
   "source": [
    "qt = df[['calculatedfinishedsquarefeet']]\n",
    "qnt_transformer = QuantileTransformer()\n",
    "qnt_transformer.fit(qt)"
   ]
  },
  {
   "cell_type": "code",
   "execution_count": 19,
   "id": "80333202",
   "metadata": {},
   "outputs": [
    {
     "data": {
      "text/html": [
       "<div>\n",
       "<style scoped>\n",
       "    .dataframe tbody tr th:only-of-type {\n",
       "        vertical-align: middle;\n",
       "    }\n",
       "\n",
       "    .dataframe tbody tr th {\n",
       "        vertical-align: top;\n",
       "    }\n",
       "\n",
       "    .dataframe thead th {\n",
       "        text-align: right;\n",
       "    }\n",
       "</style>\n",
       "<table border=\"1\" class=\"dataframe\">\n",
       "  <thead>\n",
       "    <tr style=\"text-align: right;\">\n",
       "      <th></th>\n",
       "      <th>calculatedfinishedsquarefeet</th>\n",
       "      <th>sqft_scaled</th>\n",
       "    </tr>\n",
       "  </thead>\n",
       "  <tbody>\n",
       "    <tr>\n",
       "      <th>4</th>\n",
       "      <td>3633.0</td>\n",
       "      <td>0.954621</td>\n",
       "    </tr>\n",
       "    <tr>\n",
       "      <th>6</th>\n",
       "      <td>1620.0</td>\n",
       "      <td>0.499499</td>\n",
       "    </tr>\n",
       "    <tr>\n",
       "      <th>7</th>\n",
       "      <td>2077.0</td>\n",
       "      <td>0.710043</td>\n",
       "    </tr>\n",
       "    <tr>\n",
       "      <th>11</th>\n",
       "      <td>1200.0</td>\n",
       "      <td>0.207207</td>\n",
       "    </tr>\n",
       "    <tr>\n",
       "      <th>14</th>\n",
       "      <td>171.0</td>\n",
       "      <td>0.000184</td>\n",
       "    </tr>\n",
       "    <tr>\n",
       "      <th>...</th>\n",
       "      <td>...</td>\n",
       "      <td>...</td>\n",
       "    </tr>\n",
       "    <tr>\n",
       "      <th>2152856</th>\n",
       "      <td>4375.0</td>\n",
       "      <td>0.978795</td>\n",
       "    </tr>\n",
       "    <tr>\n",
       "      <th>2152858</th>\n",
       "      <td>2262.0</td>\n",
       "      <td>0.767768</td>\n",
       "    </tr>\n",
       "    <tr>\n",
       "      <th>2152859</th>\n",
       "      <td>3127.0</td>\n",
       "      <td>0.919319</td>\n",
       "    </tr>\n",
       "    <tr>\n",
       "      <th>2152861</th>\n",
       "      <td>1974.0</td>\n",
       "      <td>0.673674</td>\n",
       "    </tr>\n",
       "    <tr>\n",
       "      <th>2152862</th>\n",
       "      <td>2110.0</td>\n",
       "      <td>0.721722</td>\n",
       "    </tr>\n",
       "  </tbody>\n",
       "</table>\n",
       "<p>2140133 rows × 2 columns</p>\n",
       "</div>"
      ],
      "text/plain": [
       "         calculatedfinishedsquarefeet  sqft_scaled\n",
       "4                              3633.0     0.954621\n",
       "6                              1620.0     0.499499\n",
       "7                              2077.0     0.710043\n",
       "11                             1200.0     0.207207\n",
       "14                              171.0     0.000184\n",
       "...                               ...          ...\n",
       "2152856                        4375.0     0.978795\n",
       "2152858                        2262.0     0.767768\n",
       "2152859                        3127.0     0.919319\n",
       "2152861                        1974.0     0.673674\n",
       "2152862                        2110.0     0.721722\n",
       "\n",
       "[2140133 rows x 2 columns]"
      ]
     },
     "execution_count": 19,
     "metadata": {},
     "output_type": "execute_result"
    }
   ],
   "source": [
    "scaled_qt = qnt_transformer.transform(qt)\n",
    "qt['sqft_scaled'] = scaled_qt\n",
    "qt"
   ]
  },
  {
   "cell_type": "code",
   "execution_count": 31,
   "id": "2f1af5f4",
   "metadata": {},
   "outputs": [
    {
     "data": {
      "text/plain": [
       "Text(0.5, 1.0, 'Scaled')"
      ]
     },
     "execution_count": 31,
     "metadata": {},
     "output_type": "execute_result"
    },
    {
     "data": {
      "image/png": "[encoded data removed]",
      "text/plain": [
       "<Figure size 936x432 with 2 Axes>"
      ]
     },
     "metadata": {
      "needs_background": "light"
     },
     "output_type": "display_data"
    }
   ],
   "source": [
    "#Copied Adam's code and changed variables to graph distributions:\n",
    "plt.figure(figsize=(13, 6))\n",
    "plt.subplot(121)\n",
    "plt.hist(qt['calculatedfinishedsquarefeet'], bins=5)\n",
    "plt.title('Original')\n",
    "plt.subplot(122)\n",
    "plt.hist(qt['sqft_scaled'], bins=5)\n",
    "plt.title('Scaled')"
   ]
  },
  {
   "cell_type": "markdown",
   "id": "ddd3ddc4",
   "metadata": {},
   "source": [
    "Without specifying that the output_distribution should 'smushificate' the data into a normal distribution, the output appears to be standardized when scaled. "
   ]
  },
  {
   "cell_type": "markdown",
   "id": "510d67f4",
   "metadata": {},
   "source": [
    "## 5. Based on the work you've done, choose a scaling method for your dataset. Write a function within your prepare.py that accepts as input the train, validate, and test data splits, and returns the scaled versions of each. Be sure to only learn the parameters for scaling from your training data!"
   ]
  },
  {
   "cell_type": "markdown",
   "id": "1627fdca",
   "metadata": {},
   "source": [
    "How does one evaluate which scaler is best to use for something like this? Is it based on which ones are most true to the original data when put through inverse_transform?"
   ]
  },
  {
   "cell_type": "code",
   "execution_count": 36,
   "id": "6048c11e",
   "metadata": {},
   "outputs": [],
   "source": [
    "def scale_zillow_data(train, validate, test):\n",
    "    \n",
    "    '''\n",
    "    Takes in train, validate, and test sets, creates copies of those sets, and\n",
    "    scales the copies. Returns train_scaled, validate_scaled, and test_scaled \n",
    "    DataFrames.\n",
    "    '''\n",
    "    \n",
    "    #Defining the columns that need to be scaled:\n",
    "    scaled_columns = ['bedroomcnt', 'bathroomcnt', 'calculatedfinishedsquarefeet', 'taxvaluedollarcnt']\n",
    "    \n",
    "    #Creating scalable copies of the train, validate, and test sets:\n",
    "    train_scaled = train.copy()\n",
    "    validate_scaled = validate.copy()\n",
    "    test_scaled = test.copy()\n",
    "    \n",
    "    #Creating the scaler object:\n",
    "    scaler = MinMaxScaler()\n",
    "    scaler.fit(train[scaled_columns])\n",
    "    \n",
    "    #Applying the scaler to the scalable colums within the train, validate, test copies:\n",
    "    train_scaled[scaled_columns] = scaler.transform(train[scaled_columns])\n",
    "    validate_scaled[scaled_columns] = scaler.transform(validate[scaled_columns])\n",
    "    test_scaled[scaled_columns] = scaler.transform(test[scaled_columns])\n",
    "\n",
    "    #Returning scaled dataframes:\n",
    "    return train_scaled, validate_scaled, test_scaled"
   ]
  },
  {
   "cell_type": "code",
   "execution_count": 37,
   "id": "8ab84fb1",
   "metadata": {},
   "outputs": [],
   "source": [
    "#Using the function to create scaled DataFrames:\n",
    "train_scaled, validate_scaled, test_scaled = scale_zillow_data(train, validate, test)"
   ]
  },
  {
   "cell_type": "code",
   "execution_count": 38,
   "id": "8aed7803",
   "metadata": {},
   "outputs": [
    {
     "data": {
      "text/html": [
       "<div>\n",
       "<style scoped>\n",
       "    .dataframe tbody tr th:only-of-type {\n",
       "        vertical-align: middle;\n",
       "    }\n",
       "\n",
       "    .dataframe tbody tr th {\n",
       "        vertical-align: top;\n",
       "    }\n",
       "\n",
       "    .dataframe thead th {\n",
       "        text-align: right;\n",
       "    }\n",
       "</style>\n",
       "<table border=\"1\" class=\"dataframe\">\n",
       "  <thead>\n",
       "    <tr style=\"text-align: right;\">\n",
       "      <th></th>\n",
       "      <th>bedroomcnt</th>\n",
       "      <th>bathroomcnt</th>\n",
       "      <th>calculatedfinishedsquarefeet</th>\n",
       "      <th>taxvaluedollarcnt</th>\n",
       "      <th>yearbuilt</th>\n",
       "      <th>taxamount</th>\n",
       "      <th>propertylandusedesc</th>\n",
       "      <th>county</th>\n",
       "    </tr>\n",
       "  </thead>\n",
       "  <tbody>\n",
       "    <tr>\n",
       "      <th>453491</th>\n",
       "      <td>3</td>\n",
       "      <td>2.0</td>\n",
       "      <td>1957.0</td>\n",
       "      <td>490784.0</td>\n",
       "      <td>1949</td>\n",
       "      <td>5926.76</td>\n",
       "      <td>Single Family Residential</td>\n",
       "      <td>Los Angeles County</td>\n",
       "    </tr>\n",
       "    <tr>\n",
       "      <th>1899700</th>\n",
       "      <td>4</td>\n",
       "      <td>2.0</td>\n",
       "      <td>1538.0</td>\n",
       "      <td>346396.0</td>\n",
       "      <td>1950</td>\n",
       "      <td>4352.18</td>\n",
       "      <td>Single Family Residential</td>\n",
       "      <td>Los Angeles County</td>\n",
       "    </tr>\n",
       "    <tr>\n",
       "      <th>1140176</th>\n",
       "      <td>2</td>\n",
       "      <td>2.0</td>\n",
       "      <td>1222.0</td>\n",
       "      <td>522853.0</td>\n",
       "      <td>1987</td>\n",
       "      <td>5520.36</td>\n",
       "      <td>Single Family Residential</td>\n",
       "      <td>Orange County</td>\n",
       "    </tr>\n",
       "    <tr>\n",
       "      <th>1782442</th>\n",
       "      <td>3</td>\n",
       "      <td>3.0</td>\n",
       "      <td>2170.0</td>\n",
       "      <td>145340.0</td>\n",
       "      <td>1959</td>\n",
       "      <td>1914.56</td>\n",
       "      <td>Single Family Residential</td>\n",
       "      <td>Los Angeles County</td>\n",
       "    </tr>\n",
       "    <tr>\n",
       "      <th>1553005</th>\n",
       "      <td>4</td>\n",
       "      <td>2.0</td>\n",
       "      <td>1764.0</td>\n",
       "      <td>120029.0</td>\n",
       "      <td>1979</td>\n",
       "      <td>2143.61</td>\n",
       "      <td>Single Family Residential</td>\n",
       "      <td>Los Angeles County</td>\n",
       "    </tr>\n",
       "  </tbody>\n",
       "</table>\n",
       "</div>"
      ],
      "text/plain": [
       "         bedroomcnt  bathroomcnt  calculatedfinishedsquarefeet  \\\n",
       "453491            3          2.0                        1957.0   \n",
       "1899700           4          2.0                        1538.0   \n",
       "1140176           2          2.0                        1222.0   \n",
       "1782442           3          3.0                        2170.0   \n",
       "1553005           4          2.0                        1764.0   \n",
       "\n",
       "         taxvaluedollarcnt  yearbuilt  taxamount        propertylandusedesc  \\\n",
       "453491            490784.0       1949    5926.76  Single Family Residential   \n",
       "1899700           346396.0       1950    4352.18  Single Family Residential   \n",
       "1140176           522853.0       1987    5520.36  Single Family Residential   \n",
       "1782442           145340.0       1959    1914.56  Single Family Residential   \n",
       "1553005           120029.0       1979    2143.61  Single Family Residential   \n",
       "\n",
       "                     county  \n",
       "453491   Los Angeles County  \n",
       "1899700  Los Angeles County  \n",
       "1140176       Orange County  \n",
       "1782442  Los Angeles County  \n",
       "1553005  Los Angeles County  "
      ]
     },
     "execution_count": 38,
     "metadata": {},
     "output_type": "execute_result"
    }
   ],
   "source": [
    "#Verifying that the scaler worked properly:\n",
    "train.head()"
   ]
  },
  {
   "cell_type": "code",
   "execution_count": 39,
   "id": "f8f708ea",
   "metadata": {},
   "outputs": [
    {
     "data": {
      "text/html": [
       "<div>\n",
       "<style scoped>\n",
       "    .dataframe tbody tr th:only-of-type {\n",
       "        vertical-align: middle;\n",
       "    }\n",
       "\n",
       "    .dataframe tbody tr th {\n",
       "        vertical-align: top;\n",
       "    }\n",
       "\n",
       "    .dataframe thead th {\n",
       "        text-align: right;\n",
       "    }\n",
       "</style>\n",
       "<table border=\"1\" class=\"dataframe\">\n",
       "  <thead>\n",
       "    <tr style=\"text-align: right;\">\n",
       "      <th></th>\n",
       "      <th>bedroomcnt</th>\n",
       "      <th>bathroomcnt</th>\n",
       "      <th>calculatedfinishedsquarefeet</th>\n",
       "      <th>taxvaluedollarcnt</th>\n",
       "      <th>yearbuilt</th>\n",
       "      <th>taxamount</th>\n",
       "      <th>propertylandusedesc</th>\n",
       "      <th>county</th>\n",
       "    </tr>\n",
       "  </thead>\n",
       "  <tbody>\n",
       "    <tr>\n",
       "      <th>453491</th>\n",
       "      <td>0.12</td>\n",
       "      <td>0.10</td>\n",
       "      <td>0.003683</td>\n",
       "      <td>0.005576</td>\n",
       "      <td>1949</td>\n",
       "      <td>5926.76</td>\n",
       "      <td>Single Family Residential</td>\n",
       "      <td>Los Angeles County</td>\n",
       "    </tr>\n",
       "    <tr>\n",
       "      <th>1899700</th>\n",
       "      <td>0.16</td>\n",
       "      <td>0.10</td>\n",
       "      <td>0.002894</td>\n",
       "      <td>0.003935</td>\n",
       "      <td>1950</td>\n",
       "      <td>4352.18</td>\n",
       "      <td>Single Family Residential</td>\n",
       "      <td>Los Angeles County</td>\n",
       "    </tr>\n",
       "    <tr>\n",
       "      <th>1140176</th>\n",
       "      <td>0.08</td>\n",
       "      <td>0.10</td>\n",
       "      <td>0.002299</td>\n",
       "      <td>0.005940</td>\n",
       "      <td>1987</td>\n",
       "      <td>5520.36</td>\n",
       "      <td>Single Family Residential</td>\n",
       "      <td>Orange County</td>\n",
       "    </tr>\n",
       "    <tr>\n",
       "      <th>1782442</th>\n",
       "      <td>0.12</td>\n",
       "      <td>0.15</td>\n",
       "      <td>0.004084</td>\n",
       "      <td>0.001651</td>\n",
       "      <td>1959</td>\n",
       "      <td>1914.56</td>\n",
       "      <td>Single Family Residential</td>\n",
       "      <td>Los Angeles County</td>\n",
       "    </tr>\n",
       "    <tr>\n",
       "      <th>1553005</th>\n",
       "      <td>0.16</td>\n",
       "      <td>0.10</td>\n",
       "      <td>0.003319</td>\n",
       "      <td>0.001363</td>\n",
       "      <td>1979</td>\n",
       "      <td>2143.61</td>\n",
       "      <td>Single Family Residential</td>\n",
       "      <td>Los Angeles County</td>\n",
       "    </tr>\n",
       "  </tbody>\n",
       "</table>\n",
       "</div>"
      ],
      "text/plain": [
       "         bedroomcnt  bathroomcnt  calculatedfinishedsquarefeet  \\\n",
       "453491         0.12         0.10                      0.003683   \n",
       "1899700        0.16         0.10                      0.002894   \n",
       "1140176        0.08         0.10                      0.002299   \n",
       "1782442        0.12         0.15                      0.004084   \n",
       "1553005        0.16         0.10                      0.003319   \n",
       "\n",
       "         taxvaluedollarcnt  yearbuilt  taxamount        propertylandusedesc  \\\n",
       "453491            0.005576       1949    5926.76  Single Family Residential   \n",
       "1899700           0.003935       1950    4352.18  Single Family Residential   \n",
       "1140176           0.005940       1987    5520.36  Single Family Residential   \n",
       "1782442           0.001651       1959    1914.56  Single Family Residential   \n",
       "1553005           0.001363       1979    2143.61  Single Family Residential   \n",
       "\n",
       "                     county  \n",
       "453491   Los Angeles County  \n",
       "1899700  Los Angeles County  \n",
       "1140176       Orange County  \n",
       "1782442  Los Angeles County  \n",
       "1553005  Los Angeles County  "
      ]
     },
     "execution_count": 39,
     "metadata": {},
     "output_type": "execute_result"
    }
   ],
   "source": [
    "train_scaled.head()"
   ]
  },
  {
   "cell_type": "markdown",
   "id": "819dc3ec",
   "metadata": {},
   "source": [
    "It's clear that the scaler worked probably, because the bedroom, bathroom, sqft, and tax value columns are all scaled. "
   ]
  },
  {
   "cell_type": "code",
   "execution_count": null,
   "id": "15a3cf2d",
   "metadata": {},
   "outputs": [],
   "source": []
  }
 ],
 "metadata": {
  "kernelspec": {
   "display_name": "Python 3 (ipykernel)",
   "language": "python",
   "name": "python3"
  },
  "language_info": {
   "codemirror_mode": {
    "name": "ipython",
    "version": 3
   },
   "file_extension": ".py",
   "mimetype": "text/x-python",
   "name": "python",
   "nbconvert_exporter": "python",
   "pygments_lexer": "ipython3",
   "version": "3.9.7"
  }
 },
 "nbformat": 4,
 "nbformat_minor": 5
}
